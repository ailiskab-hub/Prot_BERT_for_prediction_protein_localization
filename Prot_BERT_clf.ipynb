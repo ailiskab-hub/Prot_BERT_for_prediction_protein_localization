{
  "cells": [
    {
      "cell_type": "markdown",
      "metadata": {
        "id": "view-in-github",
        "colab_type": "text"
      },
      "source": [
        "<a href=\"https://colab.research.google.com/github/ailiskab-hub/Prot_BERT_for_prediction_protein_localization/blob/main/Prot_BERT_clf.ipynb\" target=\"_parent\"><img src=\"https://colab.research.google.com/assets/colab-badge.svg\" alt=\"Open In Colab\"/></a>"
      ]
    },
    {
      "cell_type": "code",
      "execution_count": null,
      "metadata": {
        "colab": {
          "base_uri": "https://localhost:8080/"
        },
        "id": "vpUZo0sl_2Fi",
        "outputId": "8fb12aac-8d2b-4c47-de67-a783aebba1e9"
      },
      "outputs": [
        {
          "output_type": "stream",
          "name": "stdout",
          "text": [
            "There are 1 GPU(s) available.\n",
            "We will use the GPU: Tesla T4\n"
          ]
        }
      ],
      "source": [
        "import numpy as np\n",
        "import pandas as pd\n",
        "import matplotlib.pyplot as plt\n",
        "import seaborn as sns\n",
        "import re\n",
        "import time\n",
        "import datetime\n",
        "import random\n",
        "from IPython.core.interactiveshell import InteractiveShell\n",
        "InteractiveShell.ast_node_interactivity = \"all\"\n",
        "\n",
        "import torch\n",
        "if torch.cuda.is_available():\n",
        "    device = torch.device(\"cuda\")\n",
        "    print('There are %d GPU(s) available.' % torch.cuda.device_count())\n",
        "    print('We will use the GPU:', torch.cuda.get_device_name(0))\n",
        "\n",
        "else:\n",
        "    print('No GPU available, using the CPU instead.')\n",
        "    device = torch.device(\"cpu\")"
      ]
    },
    {
      "cell_type": "code",
      "execution_count": null,
      "metadata": {
        "id": "tbbkXe1PCYi_"
      },
      "outputs": [],
      "source": [
        "import requests\n",
        "\n",
        "query_url = 'https://rest.uniprot.org/uniprotkb/stream?compressed=true&fields=accession%2Ccc_subcellular_location%2Csequence&format=tsv&query=%28%28reviewed%3Atrue%29+AND+%28length%3A%5B200+TO+500%5D%29+AND+%28taxonomy_id%3A40674%29%29'"
      ]
    },
    {
      "cell_type": "code",
      "execution_count": null,
      "metadata": {
        "id": "HAJau-lnCbbt"
      },
      "outputs": [],
      "source": [
        "uniprot_request = requests.get(query_url)\n",
        "from io import BytesIO\n",
        "\n",
        "\n",
        "bio = BytesIO(uniprot_request.content)\n",
        "\n",
        "df = pd.read_csv(bio, compression='gzip', sep='\\t')\n"
      ]
    },
    {
      "cell_type": "code",
      "execution_count": null,
      "metadata": {
        "colab": {
          "base_uri": "https://localhost:8080/",
          "height": 704
        },
        "id": "fQoNPppyGDsk",
        "outputId": "eb40e8a5-c6fd-4585-fe17-fbe5d65ac69a"
      },
      "outputs": [
        {
          "output_type": "execute_result",
          "data": {
            "text/plain": [
              "            Entry                          Subcellular location [CC]  \\\n",
              "0      A0A061I403  SUBCELLULAR LOCATION: Endoplasmic reticulum me...   \n",
              "1      A0A096MJN4  SUBCELLULAR LOCATION: Cytoplasm {ECO:0000250|U...   \n",
              "2      A0A096MJY4  SUBCELLULAR LOCATION: Nucleus {ECO:0000269|Pub...   \n",
              "3      A0A0B4J1F4  SUBCELLULAR LOCATION: Early endosome {ECO:0000...   \n",
              "4      A0A0B4J1G0  SUBCELLULAR LOCATION: Cell membrane {ECO:00002...   \n",
              "...           ...                                                ...   \n",
              "30931      Q9H7T3                                                NaN   \n",
              "30932      Q9JJR6                                                NaN   \n",
              "30933      Q9JJR9                                                NaN   \n",
              "30934      Q9Z1R4                                                NaN   \n",
              "30935      X6R8R1                                                NaN   \n",
              "\n",
              "                                                Sequence  \n",
              "0      MPMASVIAVAEPKWISVWGRFLWLTLLSMALGSLLALLLPLGAVEE...  \n",
              "1      MIKHFLEDNSDDAELSKFVKDFPGSEPCHPTESKTRVARPQILEPR...  \n",
              "2      MGRKKIQITRIMDERNRQVTFTKRKFGLMKKAYELSVLCDCEIALI...  \n",
              "3      MGGEAGADGPRGRVKSLGLVFEDESKGCYSSGETVAGHVLLEAAEP...  \n",
              "4      MWQLLLPTALVLTAFSGIQAGLQKAVVNLDPKWVRVLEEDSVTLRC...  \n",
              "...                                                  ...  \n",
              "30931  MERSNAATKCGEEPRSGSRRLPKAEGDKSGSAGAPSKNSSRLGGRP...  \n",
              "30932  MQPSASPGLPLPKYCSVATTVKAPDLHGAVPPWDMSFTCPFATQAP...  \n",
              "30933  MFYSGLLTEGGRKETDMREAASLRQQRRMKQAVQFIHKDSADLLPL...  \n",
              "30934  MFLRRLGGWLPRPWGRKKSTKADLPAPEPRWVDSSPENSGSDWDSA...  \n",
              "30935  MGVVLSPHPAPSRREPLAPLAPGTRPGWSPAVSGSSRSALRPSTAG...  \n",
              "\n",
              "[30936 rows x 3 columns]"
            ],
            "text/html": [
              "\n",
              "  <div id=\"df-1215ac4d-afa2-425c-aa56-0917f304eb0c\" class=\"colab-df-container\">\n",
              "    <div>\n",
              "<style scoped>\n",
              "    .dataframe tbody tr th:only-of-type {\n",
              "        vertical-align: middle;\n",
              "    }\n",
              "\n",
              "    .dataframe tbody tr th {\n",
              "        vertical-align: top;\n",
              "    }\n",
              "\n",
              "    .dataframe thead th {\n",
              "        text-align: right;\n",
              "    }\n",
              "</style>\n",
              "<table border=\"1\" class=\"dataframe\">\n",
              "  <thead>\n",
              "    <tr style=\"text-align: right;\">\n",
              "      <th></th>\n",
              "      <th>Entry</th>\n",
              "      <th>Subcellular location [CC]</th>\n",
              "      <th>Sequence</th>\n",
              "    </tr>\n",
              "  </thead>\n",
              "  <tbody>\n",
              "    <tr>\n",
              "      <th>0</th>\n",
              "      <td>A0A061I403</td>\n",
              "      <td>SUBCELLULAR LOCATION: Endoplasmic reticulum me...</td>\n",
              "      <td>MPMASVIAVAEPKWISVWGRFLWLTLLSMALGSLLALLLPLGAVEE...</td>\n",
              "    </tr>\n",
              "    <tr>\n",
              "      <th>1</th>\n",
              "      <td>A0A096MJN4</td>\n",
              "      <td>SUBCELLULAR LOCATION: Cytoplasm {ECO:0000250|U...</td>\n",
              "      <td>MIKHFLEDNSDDAELSKFVKDFPGSEPCHPTESKTRVARPQILEPR...</td>\n",
              "    </tr>\n",
              "    <tr>\n",
              "      <th>2</th>\n",
              "      <td>A0A096MJY4</td>\n",
              "      <td>SUBCELLULAR LOCATION: Nucleus {ECO:0000269|Pub...</td>\n",
              "      <td>MGRKKIQITRIMDERNRQVTFTKRKFGLMKKAYELSVLCDCEIALI...</td>\n",
              "    </tr>\n",
              "    <tr>\n",
              "      <th>3</th>\n",
              "      <td>A0A0B4J1F4</td>\n",
              "      <td>SUBCELLULAR LOCATION: Early endosome {ECO:0000...</td>\n",
              "      <td>MGGEAGADGPRGRVKSLGLVFEDESKGCYSSGETVAGHVLLEAAEP...</td>\n",
              "    </tr>\n",
              "    <tr>\n",
              "      <th>4</th>\n",
              "      <td>A0A0B4J1G0</td>\n",
              "      <td>SUBCELLULAR LOCATION: Cell membrane {ECO:00002...</td>\n",
              "      <td>MWQLLLPTALVLTAFSGIQAGLQKAVVNLDPKWVRVLEEDSVTLRC...</td>\n",
              "    </tr>\n",
              "    <tr>\n",
              "      <th>...</th>\n",
              "      <td>...</td>\n",
              "      <td>...</td>\n",
              "      <td>...</td>\n",
              "    </tr>\n",
              "    <tr>\n",
              "      <th>30931</th>\n",
              "      <td>Q9H7T3</td>\n",
              "      <td>NaN</td>\n",
              "      <td>MERSNAATKCGEEPRSGSRRLPKAEGDKSGSAGAPSKNSSRLGGRP...</td>\n",
              "    </tr>\n",
              "    <tr>\n",
              "      <th>30932</th>\n",
              "      <td>Q9JJR6</td>\n",
              "      <td>NaN</td>\n",
              "      <td>MQPSASPGLPLPKYCSVATTVKAPDLHGAVPPWDMSFTCPFATQAP...</td>\n",
              "    </tr>\n",
              "    <tr>\n",
              "      <th>30933</th>\n",
              "      <td>Q9JJR9</td>\n",
              "      <td>NaN</td>\n",
              "      <td>MFYSGLLTEGGRKETDMREAASLRQQRRMKQAVQFIHKDSADLLPL...</td>\n",
              "    </tr>\n",
              "    <tr>\n",
              "      <th>30934</th>\n",
              "      <td>Q9Z1R4</td>\n",
              "      <td>NaN</td>\n",
              "      <td>MFLRRLGGWLPRPWGRKKSTKADLPAPEPRWVDSSPENSGSDWDSA...</td>\n",
              "    </tr>\n",
              "    <tr>\n",
              "      <th>30935</th>\n",
              "      <td>X6R8R1</td>\n",
              "      <td>NaN</td>\n",
              "      <td>MGVVLSPHPAPSRREPLAPLAPGTRPGWSPAVSGSSRSALRPSTAG...</td>\n",
              "    </tr>\n",
              "  </tbody>\n",
              "</table>\n",
              "<p>30936 rows × 3 columns</p>\n",
              "</div>\n",
              "    <div class=\"colab-df-buttons\">\n",
              "\n",
              "  <div class=\"colab-df-container\">\n",
              "    <button class=\"colab-df-convert\" onclick=\"convertToInteractive('df-1215ac4d-afa2-425c-aa56-0917f304eb0c')\"\n",
              "            title=\"Convert this dataframe to an interactive table.\"\n",
              "            style=\"display:none;\">\n",
              "\n",
              "  <svg xmlns=\"http://www.w3.org/2000/svg\" height=\"24px\" viewBox=\"0 -960 960 960\">\n",
              "    <path d=\"M120-120v-720h720v720H120Zm60-500h600v-160H180v160Zm220 220h160v-160H400v160Zm0 220h160v-160H400v160ZM180-400h160v-160H180v160Zm440 0h160v-160H620v160ZM180-180h160v-160H180v160Zm440 0h160v-160H620v160Z\"/>\n",
              "  </svg>\n",
              "    </button>\n",
              "\n",
              "  <style>\n",
              "    .colab-df-container {\n",
              "      display:flex;\n",
              "      gap: 12px;\n",
              "    }\n",
              "\n",
              "    .colab-df-convert {\n",
              "      background-color: #E8F0FE;\n",
              "      border: none;\n",
              "      border-radius: 50%;\n",
              "      cursor: pointer;\n",
              "      display: none;\n",
              "      fill: #1967D2;\n",
              "      height: 32px;\n",
              "      padding: 0 0 0 0;\n",
              "      width: 32px;\n",
              "    }\n",
              "\n",
              "    .colab-df-convert:hover {\n",
              "      background-color: #E2EBFA;\n",
              "      box-shadow: 0px 1px 2px rgba(60, 64, 67, 0.3), 0px 1px 3px 1px rgba(60, 64, 67, 0.15);\n",
              "      fill: #174EA6;\n",
              "    }\n",
              "\n",
              "    .colab-df-buttons div {\n",
              "      margin-bottom: 4px;\n",
              "    }\n",
              "\n",
              "    [theme=dark] .colab-df-convert {\n",
              "      background-color: #3B4455;\n",
              "      fill: #D2E3FC;\n",
              "    }\n",
              "\n",
              "    [theme=dark] .colab-df-convert:hover {\n",
              "      background-color: #434B5C;\n",
              "      box-shadow: 0px 1px 3px 1px rgba(0, 0, 0, 0.15);\n",
              "      filter: drop-shadow(0px 1px 2px rgba(0, 0, 0, 0.3));\n",
              "      fill: #FFFFFF;\n",
              "    }\n",
              "  </style>\n",
              "\n",
              "    <script>\n",
              "      const buttonEl =\n",
              "        document.querySelector('#df-1215ac4d-afa2-425c-aa56-0917f304eb0c button.colab-df-convert');\n",
              "      buttonEl.style.display =\n",
              "        google.colab.kernel.accessAllowed ? 'block' : 'none';\n",
              "\n",
              "      async function convertToInteractive(key) {\n",
              "        const element = document.querySelector('#df-1215ac4d-afa2-425c-aa56-0917f304eb0c');\n",
              "        const dataTable =\n",
              "          await google.colab.kernel.invokeFunction('convertToInteractive',\n",
              "                                                    [key], {});\n",
              "        if (!dataTable) return;\n",
              "\n",
              "        const docLinkHtml = 'Like what you see? Visit the ' +\n",
              "          '<a target=\"_blank\" href=https://colab.research.google.com/notebooks/data_table.ipynb>data table notebook</a>'\n",
              "          + ' to learn more about interactive tables.';\n",
              "        element.innerHTML = '';\n",
              "        dataTable['output_type'] = 'display_data';\n",
              "        await google.colab.output.renderOutput(dataTable, element);\n",
              "        const docLink = document.createElement('div');\n",
              "        docLink.innerHTML = docLinkHtml;\n",
              "        element.appendChild(docLink);\n",
              "      }\n",
              "    </script>\n",
              "  </div>\n",
              "\n",
              "\n",
              "<div id=\"df-f25c4bbc-3367-48ba-9a15-35f656a4fefa\">\n",
              "  <button class=\"colab-df-quickchart\" onclick=\"quickchart('df-f25c4bbc-3367-48ba-9a15-35f656a4fefa')\"\n",
              "            title=\"Suggest charts.\"\n",
              "            style=\"display:none;\">\n",
              "\n",
              "<svg xmlns=\"http://www.w3.org/2000/svg\" height=\"24px\"viewBox=\"0 0 24 24\"\n",
              "     width=\"24px\">\n",
              "    <g>\n",
              "        <path d=\"M19 3H5c-1.1 0-2 .9-2 2v14c0 1.1.9 2 2 2h14c1.1 0 2-.9 2-2V5c0-1.1-.9-2-2-2zM9 17H7v-7h2v7zm4 0h-2V7h2v10zm4 0h-2v-4h2v4z\"/>\n",
              "    </g>\n",
              "</svg>\n",
              "  </button>\n",
              "\n",
              "<style>\n",
              "  .colab-df-quickchart {\n",
              "      --bg-color: #E8F0FE;\n",
              "      --fill-color: #1967D2;\n",
              "      --hover-bg-color: #E2EBFA;\n",
              "      --hover-fill-color: #174EA6;\n",
              "      --disabled-fill-color: #AAA;\n",
              "      --disabled-bg-color: #DDD;\n",
              "  }\n",
              "\n",
              "  [theme=dark] .colab-df-quickchart {\n",
              "      --bg-color: #3B4455;\n",
              "      --fill-color: #D2E3FC;\n",
              "      --hover-bg-color: #434B5C;\n",
              "      --hover-fill-color: #FFFFFF;\n",
              "      --disabled-bg-color: #3B4455;\n",
              "      --disabled-fill-color: #666;\n",
              "  }\n",
              "\n",
              "  .colab-df-quickchart {\n",
              "    background-color: var(--bg-color);\n",
              "    border: none;\n",
              "    border-radius: 50%;\n",
              "    cursor: pointer;\n",
              "    display: none;\n",
              "    fill: var(--fill-color);\n",
              "    height: 32px;\n",
              "    padding: 0;\n",
              "    width: 32px;\n",
              "  }\n",
              "\n",
              "  .colab-df-quickchart:hover {\n",
              "    background-color: var(--hover-bg-color);\n",
              "    box-shadow: 0 1px 2px rgba(60, 64, 67, 0.3), 0 1px 3px 1px rgba(60, 64, 67, 0.15);\n",
              "    fill: var(--button-hover-fill-color);\n",
              "  }\n",
              "\n",
              "  .colab-df-quickchart-complete:disabled,\n",
              "  .colab-df-quickchart-complete:disabled:hover {\n",
              "    background-color: var(--disabled-bg-color);\n",
              "    fill: var(--disabled-fill-color);\n",
              "    box-shadow: none;\n",
              "  }\n",
              "\n",
              "  .colab-df-spinner {\n",
              "    border: 2px solid var(--fill-color);\n",
              "    border-color: transparent;\n",
              "    border-bottom-color: var(--fill-color);\n",
              "    animation:\n",
              "      spin 1s steps(1) infinite;\n",
              "  }\n",
              "\n",
              "  @keyframes spin {\n",
              "    0% {\n",
              "      border-color: transparent;\n",
              "      border-bottom-color: var(--fill-color);\n",
              "      border-left-color: var(--fill-color);\n",
              "    }\n",
              "    20% {\n",
              "      border-color: transparent;\n",
              "      border-left-color: var(--fill-color);\n",
              "      border-top-color: var(--fill-color);\n",
              "    }\n",
              "    30% {\n",
              "      border-color: transparent;\n",
              "      border-left-color: var(--fill-color);\n",
              "      border-top-color: var(--fill-color);\n",
              "      border-right-color: var(--fill-color);\n",
              "    }\n",
              "    40% {\n",
              "      border-color: transparent;\n",
              "      border-right-color: var(--fill-color);\n",
              "      border-top-color: var(--fill-color);\n",
              "    }\n",
              "    60% {\n",
              "      border-color: transparent;\n",
              "      border-right-color: var(--fill-color);\n",
              "    }\n",
              "    80% {\n",
              "      border-color: transparent;\n",
              "      border-right-color: var(--fill-color);\n",
              "      border-bottom-color: var(--fill-color);\n",
              "    }\n",
              "    90% {\n",
              "      border-color: transparent;\n",
              "      border-bottom-color: var(--fill-color);\n",
              "    }\n",
              "  }\n",
              "</style>\n",
              "\n",
              "  <script>\n",
              "    async function quickchart(key) {\n",
              "      const quickchartButtonEl =\n",
              "        document.querySelector('#' + key + ' button');\n",
              "      quickchartButtonEl.disabled = true;  // To prevent multiple clicks.\n",
              "      quickchartButtonEl.classList.add('colab-df-spinner');\n",
              "      try {\n",
              "        const charts = await google.colab.kernel.invokeFunction(\n",
              "            'suggestCharts', [key], {});\n",
              "      } catch (error) {\n",
              "        console.error('Error during call to suggestCharts:', error);\n",
              "      }\n",
              "      quickchartButtonEl.classList.remove('colab-df-spinner');\n",
              "      quickchartButtonEl.classList.add('colab-df-quickchart-complete');\n",
              "    }\n",
              "    (() => {\n",
              "      let quickchartButtonEl =\n",
              "        document.querySelector('#df-f25c4bbc-3367-48ba-9a15-35f656a4fefa button');\n",
              "      quickchartButtonEl.style.display =\n",
              "        google.colab.kernel.accessAllowed ? 'block' : 'none';\n",
              "    })();\n",
              "  </script>\n",
              "</div>\n",
              "    </div>\n",
              "  </div>\n"
            ]
          },
          "metadata": {},
          "execution_count": 4
        }
      ],
      "source": [
        "#df = pd.read_csv('protein_seq')\n",
        "df"
      ]
    },
    {
      "cell_type": "code",
      "execution_count": null,
      "metadata": {
        "id": "MK1a63AjChj2"
      },
      "outputs": [],
      "source": [
        "#df.to_csv('protein_seq', index=False)"
      ]
    },
    {
      "cell_type": "code",
      "execution_count": null,
      "metadata": {
        "colab": {
          "base_uri": "https://localhost:8080/"
        },
        "id": "897r27D4ClpR",
        "outputId": "3cde41a6-b22e-4942-d397-7994cb194f01"
      },
      "outputs": [
        {
          "output_type": "stream",
          "name": "stdout",
          "text": [
            "<class 'pandas.core.frame.DataFrame'>\n",
            "RangeIndex: 30936 entries, 0 to 30935\n",
            "Data columns (total 3 columns):\n",
            " #   Column                     Non-Null Count  Dtype \n",
            "---  ------                     --------------  ----- \n",
            " 0   Entry                      30936 non-null  object\n",
            " 1   Subcellular location [CC]  27489 non-null  object\n",
            " 2   Sequence                   30936 non-null  object\n",
            "dtypes: object(3)\n",
            "memory usage: 725.2+ KB\n"
          ]
        }
      ],
      "source": [
        "df.info()"
      ]
    },
    {
      "cell_type": "code",
      "execution_count": null,
      "metadata": {
        "colab": {
          "base_uri": "https://localhost:8080/",
          "height": 423
        },
        "id": "J_EI0AAwCpB7",
        "outputId": "d2a76284-aef5-4cb8-daa5-b84c8ac92eac"
      },
      "outputs": [
        {
          "output_type": "execute_result",
          "data": {
            "text/plain": [
              "            Entry                          Subcellular location [CC]  \\\n",
              "0      A0A061I403  SUBCELLULAR LOCATION: Endoplasmic reticulum me...   \n",
              "1      A0A096MJN4  SUBCELLULAR LOCATION: Cytoplasm {ECO:0000250|U...   \n",
              "2      A0A096MJY4  SUBCELLULAR LOCATION: Nucleus {ECO:0000269|Pub...   \n",
              "3      A0A0B4J1F4  SUBCELLULAR LOCATION: Early endosome {ECO:0000...   \n",
              "4      A0A0B4J1G0  SUBCELLULAR LOCATION: Cell membrane {ECO:00002...   \n",
              "...           ...                                                ...   \n",
              "27484      Q861Y6       SUBCELLULAR LOCATION: Nucleus {ECO:0000250}.   \n",
              "27485      Q8VDR5  SUBCELLULAR LOCATION: Membrane {ECO:0000305}; ...   \n",
              "27486      Q95JR4  SUBCELLULAR LOCATION: Membrane {ECO:0000305}; ...   \n",
              "27487      Q95KD5  SUBCELLULAR LOCATION: Endoplasmic reticulum me...   \n",
              "27488      Q9D4Y8  SUBCELLULAR LOCATION: Membrane {ECO:0000255}; ...   \n",
              "\n",
              "                                                Sequence  \n",
              "0      MPMASVIAVAEPKWISVWGRFLWLTLLSMALGSLLALLLPLGAVEE...  \n",
              "1      MIKHFLEDNSDDAELSKFVKDFPGSEPCHPTESKTRVARPQILEPR...  \n",
              "2      MGRKKIQITRIMDERNRQVTFTKRKFGLMKKAYELSVLCDCEIALI...  \n",
              "3      MGGEAGADGPRGRVKSLGLVFEDESKGCYSSGETVAGHVLLEAAEP...  \n",
              "4      MWQLLLPTALVLTAFSGIQAGLQKAVVNLDPKWVRVLEEDSVTLRC...  \n",
              "...                                                  ...  \n",
              "27484  MSRVSVPCHVKGTVALQVGDVRTSQGRPGVLVIDVTFPSVAPFELQ...  \n",
              "27485  MASKVEKTHALPPCCSTESLISSIGLGIFCLVADRLLRFPIIQHND...  \n",
              "27486  MALTPTNLNNEMSLPMKMDCQEQELTEKNNSFFQKLNVTKSVMQDL...  \n",
              "27487  MAATLGSGERWTEAYIDAVRRNKYPEDTPPESHDPCGCCNCVKAQK...  \n",
              "27488  MLGTGDPNLHSSCILSRKKGRQGHHIMKHEQIGSQMTEFSWKDIIN...  \n",
              "\n",
              "[27489 rows x 3 columns]"
            ],
            "text/html": [
              "\n",
              "  <div id=\"df-4567e911-753c-4b4e-9534-aac3118d783c\" class=\"colab-df-container\">\n",
              "    <div>\n",
              "<style scoped>\n",
              "    .dataframe tbody tr th:only-of-type {\n",
              "        vertical-align: middle;\n",
              "    }\n",
              "\n",
              "    .dataframe tbody tr th {\n",
              "        vertical-align: top;\n",
              "    }\n",
              "\n",
              "    .dataframe thead th {\n",
              "        text-align: right;\n",
              "    }\n",
              "</style>\n",
              "<table border=\"1\" class=\"dataframe\">\n",
              "  <thead>\n",
              "    <tr style=\"text-align: right;\">\n",
              "      <th></th>\n",
              "      <th>Entry</th>\n",
              "      <th>Subcellular location [CC]</th>\n",
              "      <th>Sequence</th>\n",
              "    </tr>\n",
              "  </thead>\n",
              "  <tbody>\n",
              "    <tr>\n",
              "      <th>0</th>\n",
              "      <td>A0A061I403</td>\n",
              "      <td>SUBCELLULAR LOCATION: Endoplasmic reticulum me...</td>\n",
              "      <td>MPMASVIAVAEPKWISVWGRFLWLTLLSMALGSLLALLLPLGAVEE...</td>\n",
              "    </tr>\n",
              "    <tr>\n",
              "      <th>1</th>\n",
              "      <td>A0A096MJN4</td>\n",
              "      <td>SUBCELLULAR LOCATION: Cytoplasm {ECO:0000250|U...</td>\n",
              "      <td>MIKHFLEDNSDDAELSKFVKDFPGSEPCHPTESKTRVARPQILEPR...</td>\n",
              "    </tr>\n",
              "    <tr>\n",
              "      <th>2</th>\n",
              "      <td>A0A096MJY4</td>\n",
              "      <td>SUBCELLULAR LOCATION: Nucleus {ECO:0000269|Pub...</td>\n",
              "      <td>MGRKKIQITRIMDERNRQVTFTKRKFGLMKKAYELSVLCDCEIALI...</td>\n",
              "    </tr>\n",
              "    <tr>\n",
              "      <th>3</th>\n",
              "      <td>A0A0B4J1F4</td>\n",
              "      <td>SUBCELLULAR LOCATION: Early endosome {ECO:0000...</td>\n",
              "      <td>MGGEAGADGPRGRVKSLGLVFEDESKGCYSSGETVAGHVLLEAAEP...</td>\n",
              "    </tr>\n",
              "    <tr>\n",
              "      <th>4</th>\n",
              "      <td>A0A0B4J1G0</td>\n",
              "      <td>SUBCELLULAR LOCATION: Cell membrane {ECO:00002...</td>\n",
              "      <td>MWQLLLPTALVLTAFSGIQAGLQKAVVNLDPKWVRVLEEDSVTLRC...</td>\n",
              "    </tr>\n",
              "    <tr>\n",
              "      <th>...</th>\n",
              "      <td>...</td>\n",
              "      <td>...</td>\n",
              "      <td>...</td>\n",
              "    </tr>\n",
              "    <tr>\n",
              "      <th>27484</th>\n",
              "      <td>Q861Y6</td>\n",
              "      <td>SUBCELLULAR LOCATION: Nucleus {ECO:0000250}.</td>\n",
              "      <td>MSRVSVPCHVKGTVALQVGDVRTSQGRPGVLVIDVTFPSVAPFELQ...</td>\n",
              "    </tr>\n",
              "    <tr>\n",
              "      <th>27485</th>\n",
              "      <td>Q8VDR5</td>\n",
              "      <td>SUBCELLULAR LOCATION: Membrane {ECO:0000305}; ...</td>\n",
              "      <td>MASKVEKTHALPPCCSTESLISSIGLGIFCLVADRLLRFPIIQHND...</td>\n",
              "    </tr>\n",
              "    <tr>\n",
              "      <th>27486</th>\n",
              "      <td>Q95JR4</td>\n",
              "      <td>SUBCELLULAR LOCATION: Membrane {ECO:0000305}; ...</td>\n",
              "      <td>MALTPTNLNNEMSLPMKMDCQEQELTEKNNSFFQKLNVTKSVMQDL...</td>\n",
              "    </tr>\n",
              "    <tr>\n",
              "      <th>27487</th>\n",
              "      <td>Q95KD5</td>\n",
              "      <td>SUBCELLULAR LOCATION: Endoplasmic reticulum me...</td>\n",
              "      <td>MAATLGSGERWTEAYIDAVRRNKYPEDTPPESHDPCGCCNCVKAQK...</td>\n",
              "    </tr>\n",
              "    <tr>\n",
              "      <th>27488</th>\n",
              "      <td>Q9D4Y8</td>\n",
              "      <td>SUBCELLULAR LOCATION: Membrane {ECO:0000255}; ...</td>\n",
              "      <td>MLGTGDPNLHSSCILSRKKGRQGHHIMKHEQIGSQMTEFSWKDIIN...</td>\n",
              "    </tr>\n",
              "  </tbody>\n",
              "</table>\n",
              "<p>27489 rows × 3 columns</p>\n",
              "</div>\n",
              "    <div class=\"colab-df-buttons\">\n",
              "\n",
              "  <div class=\"colab-df-container\">\n",
              "    <button class=\"colab-df-convert\" onclick=\"convertToInteractive('df-4567e911-753c-4b4e-9534-aac3118d783c')\"\n",
              "            title=\"Convert this dataframe to an interactive table.\"\n",
              "            style=\"display:none;\">\n",
              "\n",
              "  <svg xmlns=\"http://www.w3.org/2000/svg\" height=\"24px\" viewBox=\"0 -960 960 960\">\n",
              "    <path d=\"M120-120v-720h720v720H120Zm60-500h600v-160H180v160Zm220 220h160v-160H400v160Zm0 220h160v-160H400v160ZM180-400h160v-160H180v160Zm440 0h160v-160H620v160ZM180-180h160v-160H180v160Zm440 0h160v-160H620v160Z\"/>\n",
              "  </svg>\n",
              "    </button>\n",
              "\n",
              "  <style>\n",
              "    .colab-df-container {\n",
              "      display:flex;\n",
              "      gap: 12px;\n",
              "    }\n",
              "\n",
              "    .colab-df-convert {\n",
              "      background-color: #E8F0FE;\n",
              "      border: none;\n",
              "      border-radius: 50%;\n",
              "      cursor: pointer;\n",
              "      display: none;\n",
              "      fill: #1967D2;\n",
              "      height: 32px;\n",
              "      padding: 0 0 0 0;\n",
              "      width: 32px;\n",
              "    }\n",
              "\n",
              "    .colab-df-convert:hover {\n",
              "      background-color: #E2EBFA;\n",
              "      box-shadow: 0px 1px 2px rgba(60, 64, 67, 0.3), 0px 1px 3px 1px rgba(60, 64, 67, 0.15);\n",
              "      fill: #174EA6;\n",
              "    }\n",
              "\n",
              "    .colab-df-buttons div {\n",
              "      margin-bottom: 4px;\n",
              "    }\n",
              "\n",
              "    [theme=dark] .colab-df-convert {\n",
              "      background-color: #3B4455;\n",
              "      fill: #D2E3FC;\n",
              "    }\n",
              "\n",
              "    [theme=dark] .colab-df-convert:hover {\n",
              "      background-color: #434B5C;\n",
              "      box-shadow: 0px 1px 3px 1px rgba(0, 0, 0, 0.15);\n",
              "      filter: drop-shadow(0px 1px 2px rgba(0, 0, 0, 0.3));\n",
              "      fill: #FFFFFF;\n",
              "    }\n",
              "  </style>\n",
              "\n",
              "    <script>\n",
              "      const buttonEl =\n",
              "        document.querySelector('#df-4567e911-753c-4b4e-9534-aac3118d783c button.colab-df-convert');\n",
              "      buttonEl.style.display =\n",
              "        google.colab.kernel.accessAllowed ? 'block' : 'none';\n",
              "\n",
              "      async function convertToInteractive(key) {\n",
              "        const element = document.querySelector('#df-4567e911-753c-4b4e-9534-aac3118d783c');\n",
              "        const dataTable =\n",
              "          await google.colab.kernel.invokeFunction('convertToInteractive',\n",
              "                                                    [key], {});\n",
              "        if (!dataTable) return;\n",
              "\n",
              "        const docLinkHtml = 'Like what you see? Visit the ' +\n",
              "          '<a target=\"_blank\" href=https://colab.research.google.com/notebooks/data_table.ipynb>data table notebook</a>'\n",
              "          + ' to learn more about interactive tables.';\n",
              "        element.innerHTML = '';\n",
              "        dataTable['output_type'] = 'display_data';\n",
              "        await google.colab.output.renderOutput(dataTable, element);\n",
              "        const docLink = document.createElement('div');\n",
              "        docLink.innerHTML = docLinkHtml;\n",
              "        element.appendChild(docLink);\n",
              "      }\n",
              "    </script>\n",
              "  </div>\n",
              "\n",
              "\n",
              "<div id=\"df-3d0d80fd-36a5-4d39-be15-c3a728ecd062\">\n",
              "  <button class=\"colab-df-quickchart\" onclick=\"quickchart('df-3d0d80fd-36a5-4d39-be15-c3a728ecd062')\"\n",
              "            title=\"Suggest charts.\"\n",
              "            style=\"display:none;\">\n",
              "\n",
              "<svg xmlns=\"http://www.w3.org/2000/svg\" height=\"24px\"viewBox=\"0 0 24 24\"\n",
              "     width=\"24px\">\n",
              "    <g>\n",
              "        <path d=\"M19 3H5c-1.1 0-2 .9-2 2v14c0 1.1.9 2 2 2h14c1.1 0 2-.9 2-2V5c0-1.1-.9-2-2-2zM9 17H7v-7h2v7zm4 0h-2V7h2v10zm4 0h-2v-4h2v4z\"/>\n",
              "    </g>\n",
              "</svg>\n",
              "  </button>\n",
              "\n",
              "<style>\n",
              "  .colab-df-quickchart {\n",
              "      --bg-color: #E8F0FE;\n",
              "      --fill-color: #1967D2;\n",
              "      --hover-bg-color: #E2EBFA;\n",
              "      --hover-fill-color: #174EA6;\n",
              "      --disabled-fill-color: #AAA;\n",
              "      --disabled-bg-color: #DDD;\n",
              "  }\n",
              "\n",
              "  [theme=dark] .colab-df-quickchart {\n",
              "      --bg-color: #3B4455;\n",
              "      --fill-color: #D2E3FC;\n",
              "      --hover-bg-color: #434B5C;\n",
              "      --hover-fill-color: #FFFFFF;\n",
              "      --disabled-bg-color: #3B4455;\n",
              "      --disabled-fill-color: #666;\n",
              "  }\n",
              "\n",
              "  .colab-df-quickchart {\n",
              "    background-color: var(--bg-color);\n",
              "    border: none;\n",
              "    border-radius: 50%;\n",
              "    cursor: pointer;\n",
              "    display: none;\n",
              "    fill: var(--fill-color);\n",
              "    height: 32px;\n",
              "    padding: 0;\n",
              "    width: 32px;\n",
              "  }\n",
              "\n",
              "  .colab-df-quickchart:hover {\n",
              "    background-color: var(--hover-bg-color);\n",
              "    box-shadow: 0 1px 2px rgba(60, 64, 67, 0.3), 0 1px 3px 1px rgba(60, 64, 67, 0.15);\n",
              "    fill: var(--button-hover-fill-color);\n",
              "  }\n",
              "\n",
              "  .colab-df-quickchart-complete:disabled,\n",
              "  .colab-df-quickchart-complete:disabled:hover {\n",
              "    background-color: var(--disabled-bg-color);\n",
              "    fill: var(--disabled-fill-color);\n",
              "    box-shadow: none;\n",
              "  }\n",
              "\n",
              "  .colab-df-spinner {\n",
              "    border: 2px solid var(--fill-color);\n",
              "    border-color: transparent;\n",
              "    border-bottom-color: var(--fill-color);\n",
              "    animation:\n",
              "      spin 1s steps(1) infinite;\n",
              "  }\n",
              "\n",
              "  @keyframes spin {\n",
              "    0% {\n",
              "      border-color: transparent;\n",
              "      border-bottom-color: var(--fill-color);\n",
              "      border-left-color: var(--fill-color);\n",
              "    }\n",
              "    20% {\n",
              "      border-color: transparent;\n",
              "      border-left-color: var(--fill-color);\n",
              "      border-top-color: var(--fill-color);\n",
              "    }\n",
              "    30% {\n",
              "      border-color: transparent;\n",
              "      border-left-color: var(--fill-color);\n",
              "      border-top-color: var(--fill-color);\n",
              "      border-right-color: var(--fill-color);\n",
              "    }\n",
              "    40% {\n",
              "      border-color: transparent;\n",
              "      border-right-color: var(--fill-color);\n",
              "      border-top-color: var(--fill-color);\n",
              "    }\n",
              "    60% {\n",
              "      border-color: transparent;\n",
              "      border-right-color: var(--fill-color);\n",
              "    }\n",
              "    80% {\n",
              "      border-color: transparent;\n",
              "      border-right-color: var(--fill-color);\n",
              "      border-bottom-color: var(--fill-color);\n",
              "    }\n",
              "    90% {\n",
              "      border-color: transparent;\n",
              "      border-bottom-color: var(--fill-color);\n",
              "    }\n",
              "  }\n",
              "</style>\n",
              "\n",
              "  <script>\n",
              "    async function quickchart(key) {\n",
              "      const quickchartButtonEl =\n",
              "        document.querySelector('#' + key + ' button');\n",
              "      quickchartButtonEl.disabled = true;  // To prevent multiple clicks.\n",
              "      quickchartButtonEl.classList.add('colab-df-spinner');\n",
              "      try {\n",
              "        const charts = await google.colab.kernel.invokeFunction(\n",
              "            'suggestCharts', [key], {});\n",
              "      } catch (error) {\n",
              "        console.error('Error during call to suggestCharts:', error);\n",
              "      }\n",
              "      quickchartButtonEl.classList.remove('colab-df-spinner');\n",
              "      quickchartButtonEl.classList.add('colab-df-quickchart-complete');\n",
              "    }\n",
              "    (() => {\n",
              "      let quickchartButtonEl =\n",
              "        document.querySelector('#df-3d0d80fd-36a5-4d39-be15-c3a728ecd062 button');\n",
              "      quickchartButtonEl.style.display =\n",
              "        google.colab.kernel.accessAllowed ? 'block' : 'none';\n",
              "    })();\n",
              "  </script>\n",
              "</div>\n",
              "    </div>\n",
              "  </div>\n"
            ]
          },
          "metadata": {},
          "execution_count": 5
        }
      ],
      "source": [
        "df = df.dropna(axis=0,how='any')\n",
        "df.reset_index(drop=True, inplace=True)\n",
        "df"
      ]
    },
    {
      "cell_type": "code",
      "execution_count": null,
      "metadata": {
        "colab": {
          "base_uri": "https://localhost:8080/"
        },
        "id": "JhTsCh3oCsKF",
        "outputId": "852c3800-9e2b-4704-9477-3050ee0fcc5c"
      },
      "outputs": [
        {
          "output_type": "execute_result",
          "data": {
            "text/plain": [
              "11188"
            ]
          },
          "metadata": {},
          "execution_count": 6
        }
      ],
      "source": [
        "df['Subcellular location [CC]'].nunique()"
      ]
    },
    {
      "cell_type": "markdown",
      "source": [
        "# Сделаем функции для предобработки данных"
      ],
      "metadata": {
        "id": "f2kRxZejo0No"
      }
    },
    {
      "cell_type": "code",
      "execution_count": null,
      "metadata": {
        "id": "XW-puVZCHMNQ"
      },
      "outputs": [],
      "source": [
        "def preprocessing(df, n=250, reverse=True):\n",
        "\n",
        "        #Сопоставляем единстенный лейбл для классификации для кажного образца\n",
        "        #составляем единый датасет\n",
        "        #производим замену редких аминокислот\n",
        "\n",
        "\n",
        "  nucleus = df['Subcellular location [CC]'].str.contains('Nucleus') | df['Subcellular location [CC]'].str.contains('Chromosome')\n",
        "  cytosolic = df['Subcellular location [CC]'].str.contains('Cytosol') | df['Subcellular location [CC]'].str.contains('Cytoplasm')\n",
        "  membrane = df['Subcellular location [CC]'].str.contains('Membrane') | df['Subcellular location [CC]'].str.contains('Cell membrane')\n",
        "  mth = df['Subcellular location [CC]'].str.contains('Mitochondrion')\n",
        "\n",
        "  localisation = ['nucleus', 'cytosolic', 'membrane', 'mth']\n",
        "  dfs_name = [i+'_df' for i in localisation]\n",
        "\n",
        "  if reverse:\n",
        "    nucleus_df = df[nucleus & ~cytosolic & ~membrane & ~mth][:n]\n",
        "    cytosolic_df = df[cytosolic & ~nucleus & ~membrane & ~mth][:n]\n",
        "    membrane_df = df[membrane & ~cytosolic & ~nucleus & ~mth][:n]\n",
        "    mth_df = df[mth & ~cytosolic & ~nucleus & ~membrane][:n]\n",
        "  else:\n",
        "    nucleus_df = df[nucleus & ~cytosolic & ~membrane & ~mth][-n:]\n",
        "    cytosolic_df = df[cytosolic & ~nucleus & ~membrane & ~mth][-n:]\n",
        "    membrane_df = df[membrane & ~cytosolic & ~nucleus & ~mth][-n:]\n",
        "    mth_df = df[mth & ~cytosolic & ~nucleus & ~membrane][-n:]\n",
        "\n",
        "  seq = {i+'_seq':[] for i in localisation}\n",
        "  labels = {i+'_labels':[] for i in localisation}\n",
        "  lab = 0\n",
        "  print('Labels:')\n",
        "  for d in dfs_name:\n",
        "      seq[d[:-2]+'seq'] = locals().get(d)['Sequence'].tolist()\n",
        "      labels[d[:-2]+'labels'] = [lab for protein in seq[d[:-2]+'seq']]\n",
        "      print(d[:-3], lab)\n",
        "      lab+=1\n",
        "\n",
        "  sequences = []\n",
        "  for i in seq.values():\n",
        "    sequences.extend(i)\n",
        "\n",
        "  all_labels = []\n",
        "  for i in labels.values():\n",
        "    all_labels.extend(i)\n",
        "\n",
        "  sequences = [re.sub(r\"[UZOB]\", \"X\", s) for s in sequences]\n",
        "  return sequences, all_labels"
      ]
    },
    {
      "cell_type": "code",
      "source": [
        "def add_spases(sequences):\n",
        "        # Добавляем пробелы между АК (нужно для токенизации)\n",
        "  seq_spase = []\n",
        "  for s in sequences:\n",
        "    s_ = ''\n",
        "    for i in s:\n",
        "      s_ += i+' '\n",
        "    seq_spase.append(s_)\n",
        "  return seq_spase"
      ],
      "metadata": {
        "id": "ahXYtit8px2U"
      },
      "execution_count": null,
      "outputs": []
    },
    {
      "cell_type": "code",
      "source": [
        "def statistics(sequences):\n",
        "        # Функция для визуализации распределения длин последовательностей\n",
        "  %matplotlib inline\n",
        "  %config InlineBackend.figure_format='retina'\n",
        "  sns.set(style='whitegrid', palette='muted', font_scale=1.2)\n",
        "  ax = sns.distplot([len(i) for i in sequences]).set(title = 'Distribution of sequences lengh')"
      ],
      "metadata": {
        "id": "0amOrAc3qAWc"
      },
      "execution_count": null,
      "outputs": []
    },
    {
      "cell_type": "code",
      "source": [
        "def stats2(all_labels):\n",
        "        # Функция для визуализации сбаллансированности классов\n",
        "  fig, ax = plt.subplots()\n",
        "  ax.bar([('class '+str(j)) for j in all_labels], [all_labels.count(i) for i in all_labels])\n",
        "  ax.set_title('Class balance')\n",
        "  plt.show()"
      ],
      "metadata": {
        "id": "w8xpdAgSqAlW"
      },
      "execution_count": null,
      "outputs": []
    },
    {
      "cell_type": "markdown",
      "source": [
        "# Cначала создадим мини-датасет для проверки работоспособности модели"
      ],
      "metadata": {
        "id": "3OmcRQIdoop-"
      }
    },
    {
      "cell_type": "code",
      "source": [
        "sequences, all_labels = preprocessing(df)\n"
      ],
      "metadata": {
        "colab": {
          "base_uri": "https://localhost:8080/"
        },
        "id": "dgN7SXuK92us",
        "outputId": "9492300c-a1ca-4916-b553-c7dee9991d68"
      },
      "execution_count": null,
      "outputs": [
        {
          "output_type": "stream",
          "name": "stdout",
          "text": [
            "Labels:\n",
            "nucleus 0\n",
            "cytosolic 1\n",
            "membrane 2\n",
            "mth 3\n"
          ]
        }
      ]
    },
    {
      "cell_type": "code",
      "source": [
        "seq_spase = add_spases(sequences)"
      ],
      "metadata": {
        "id": "0y-0fvQu-QQO"
      },
      "execution_count": null,
      "outputs": []
    },
    {
      "cell_type": "code",
      "source": [
        "statistics(sequences)\n",
        "stats2(all_labels)"
      ],
      "metadata": {
        "colab": {
          "base_uri": "https://localhost:8080/",
          "height": 1000
        },
        "id": "Oq1s6GR2EL56",
        "outputId": "7689a84c-fbbd-41e1-be32-d27abf267d9c"
      },
      "execution_count": null,
      "outputs": [
        {
          "output_type": "stream",
          "name": "stderr",
          "text": [
            "<ipython-input-52-88c2e924b9ea>:6: UserWarning: \n",
            "\n",
            "`distplot` is a deprecated function and will be removed in seaborn v0.14.0.\n",
            "\n",
            "Please adapt your code to use either `displot` (a figure-level function with\n",
            "similar flexibility) or `histplot` (an axes-level function for histograms).\n",
            "\n",
            "For a guide to updating your code to use the new functions, please see\n",
            "https://gist.github.com/mwaskom/de44147ed2974457ad6372750bbe5751\n",
            "\n",
            "  ax = sns.distplot([len(i) for i in sequences]).set(title = 'Distribution of sequences lengh')\n"
          ]
        },
        {
          "output_type": "display_data",
          "data": {
            "text/plain": [
              "<Figure size 640x480 with 1 Axes>"
            ],
            "image/png": "[encoded data removed]"
          },
          "metadata": {
            "image/png": {
              "width": 618,
              "height": 445
            }
          }
        },
        {
          "output_type": "display_data",
          "data": {
            "text/plain": [
              "<Figure size 640x480 with 1 Axes>"
            ],
            "image/png": "[encoded data removed]"
          },
          "metadata": {
            "image/png": {
              "width": 564,
              "height": 445
            }
          }
        }
      ]
    },
    {
      "cell_type": "markdown",
      "source": [
        "## Работа с трансформерами"
      ],
      "metadata": {
        "id": "8ZP04rGFqetv"
      }
    },
    {
      "cell_type": "code",
      "execution_count": null,
      "metadata": {
        "colab": {
          "base_uri": "https://localhost:8080/"
        },
        "id": "LXio_T4RbjIR",
        "outputId": "61a28b6f-393e-46b8-d18e-35d683bb2385"
      },
      "outputs": [
        {
          "output_type": "stream",
          "name": "stdout",
          "text": [
            "Collecting transformers\n",
            "  Downloading transformers-4.33.1-py3-none-any.whl (7.6 MB)\n",
            "\u001b[2K     \u001b[90m━━━━━━━━━━━━━━━━━━━━━━━━━━━━━━━━━━━━━━━━\u001b[0m \u001b[32m7.6/7.6 MB\u001b[0m \u001b[31m21.9 MB/s\u001b[0m eta \u001b[36m0:00:00\u001b[0m\n",
            "\u001b[?25hRequirement already satisfied: filelock in /usr/local/lib/python3.10/dist-packages (from transformers) (3.12.2)\n",
            "Collecting huggingface-hub<1.0,>=0.15.1 (from transformers)\n",
            "  Downloading huggingface_hub-0.17.1-py3-none-any.whl (294 kB)\n",
            "\u001b[2K     \u001b[90m━━━━━━━━━━━━━━━━━━━━━━━━━━━━━━━━━━━━━━\u001b[0m \u001b[32m294.8/294.8 kB\u001b[0m \u001b[31m29.0 MB/s\u001b[0m eta \u001b[36m0:00:00\u001b[0m\n",
            "\u001b[?25hRequirement already satisfied: numpy>=1.17 in /usr/local/lib/python3.10/dist-packages (from transformers) (1.23.5)\n",
            "Requirement already satisfied: packaging>=20.0 in /usr/local/lib/python3.10/dist-packages (from transformers) (23.1)\n",
            "Requirement already satisfied: pyyaml>=5.1 in /usr/local/lib/python3.10/dist-packages (from transformers) (6.0.1)\n",
            "Requirement already satisfied: regex!=2019.12.17 in /usr/local/lib/python3.10/dist-packages (from transformers) (2023.6.3)\n",
            "Requirement already satisfied: requests in /usr/local/lib/python3.10/dist-packages (from transformers) (2.31.0)\n",
            "Collecting tokenizers!=0.11.3,<0.14,>=0.11.1 (from transformers)\n",
            "  Downloading tokenizers-0.13.3-cp310-cp310-manylinux_2_17_x86_64.manylinux2014_x86_64.whl (7.8 MB)\n",
            "\u001b[2K     \u001b[90m━━━━━━━━━━━━━━━━━━━━━━━━━━━━━━━━━━━━━━━━\u001b[0m \u001b[32m7.8/7.8 MB\u001b[0m \u001b[31m62.3 MB/s\u001b[0m eta \u001b[36m0:00:00\u001b[0m\n",
            "\u001b[?25hCollecting safetensors>=0.3.1 (from transformers)\n",
            "  Downloading safetensors-0.3.3-cp310-cp310-manylinux_2_17_x86_64.manylinux2014_x86_64.whl (1.3 MB)\n",
            "\u001b[2K     \u001b[90m━━━━━━━━━━━━━━━━━━━━━━━━━━━━━━━━━━━━━━━━\u001b[0m \u001b[32m1.3/1.3 MB\u001b[0m \u001b[31m60.9 MB/s\u001b[0m eta \u001b[36m0:00:00\u001b[0m\n",
            "\u001b[?25hRequirement already satisfied: tqdm>=4.27 in /usr/local/lib/python3.10/dist-packages (from transformers) (4.66.1)\n",
            "Requirement already satisfied: fsspec in /usr/local/lib/python3.10/dist-packages (from huggingface-hub<1.0,>=0.15.1->transformers) (2023.6.0)\n",
            "Requirement already satisfied: typing-extensions>=3.7.4.3 in /usr/local/lib/python3.10/dist-packages (from huggingface-hub<1.0,>=0.15.1->transformers) (4.5.0)\n",
            "Requirement already satisfied: charset-normalizer<4,>=2 in /usr/local/lib/python3.10/dist-packages (from requests->transformers) (3.2.0)\n",
            "Requirement already satisfied: idna<4,>=2.5 in /usr/local/lib/python3.10/dist-packages (from requests->transformers) (3.4)\n",
            "Requirement already satisfied: urllib3<3,>=1.21.1 in /usr/local/lib/python3.10/dist-packages (from requests->transformers) (2.0.4)\n",
            "Requirement already satisfied: certifi>=2017.4.17 in /usr/local/lib/python3.10/dist-packages (from requests->transformers) (2023.7.22)\n",
            "Installing collected packages: tokenizers, safetensors, huggingface-hub, transformers\n",
            "Successfully installed huggingface-hub-0.17.1 safetensors-0.3.3 tokenizers-0.13.3 transformers-4.33.1\n"
          ]
        }
      ],
      "source": [
        "!pip install transformers"
      ]
    },
    {
      "cell_type": "code",
      "execution_count": null,
      "metadata": {
        "id": "LeMw97eZDl2x",
        "colab": {
          "base_uri": "https://localhost:8080/",
          "height": 113,
          "referenced_widgets": [
            "4f0cc868b98945699586af21a5895547",
            "ae27a53604d4425ebe9a8f80faf05db2",
            "2c3a621fb2e94655858a6a5f9ae938aa",
            "99623b6ae47c4ffa9312e19acc82d58b",
            "e79d5495f42e40db8a769772f2d20ef2",
            "1da9cf9d9073433ea74a4309a14df135",
            "c26a9ae24d7642779af2ea4828de1b83",
            "5d9a291f0c2d405e8c590e2e21b51c06",
            "da034fd83a954c88a003a1bbd93c923a",
            "020dd3612b9a44d78edaf6473e9a90d7",
            "1e059df7c42b45f29c81552888eb3894",
            "4f01d14956bd40418a58205f4ac74d17",
            "4323ab49105048d1aa93f896e2325e7c",
            "b1d88c1046354c6b89d9f46f25660bff",
            "c89c4c7b54a94a05a2d475ae153e0ad8",
            "7978f0e82769420086f8a9a58ca6ddca",
            "ff379c4d1622486d9b5fe74218efcb8b",
            "842b4ab72c474ba99e1da4ededa41e69",
            "7fc048c7b6e44f76ad8a20d8a6b36fc9",
            "f7586de01b27402986adeccc7f545756",
            "327523ab62754b33b8d61c4f31620610",
            "65163c2751084d6abc78f4fa574dbdfd",
            "debc2aacc7604fc5a0420a1a7d26cdb3",
            "119736b4885d495683937c6b56f85591",
            "6145ef7e95ee4119b1c80094615030f3",
            "d840e947a06343e4855385658d67e832",
            "bfb6c13cb98643cd9d3d48db32f4fcff",
            "f51513b704b645358da47b572fffa884",
            "437e0ca9d73641408525790016546b8e",
            "72257e964690478db8287cc2f3bc681d",
            "74386ea0e3e94b3ba7279dd0b9fef346",
            "6ca69bafa561411bb0c8baf128e5777e",
            "70d2202bc6cf4f01a9c3cc0286808e56"
          ]
        },
        "outputId": "fd70268e-85bd-4029-c1b3-a662141369c4"
      },
      "outputs": [
        {
          "output_type": "display_data",
          "data": {
            "text/plain": [
              "Downloading (…)solve/main/vocab.txt:   0%|          | 0.00/81.0 [00:00<?, ?B/s]"
            ],
            "application/vnd.jupyter.widget-view+json": {
              "version_major": 2,
              "version_minor": 0,
              "model_id": "4f0cc868b98945699586af21a5895547"
            }
          },
          "metadata": {}
        },
        {
          "output_type": "display_data",
          "data": {
            "text/plain": [
              "Downloading (…)cial_tokens_map.json:   0%|          | 0.00/112 [00:00<?, ?B/s]"
            ],
            "application/vnd.jupyter.widget-view+json": {
              "version_major": 2,
              "version_minor": 0,
              "model_id": "4f01d14956bd40418a58205f4ac74d17"
            }
          },
          "metadata": {}
        },
        {
          "output_type": "display_data",
          "data": {
            "text/plain": [
              "Downloading (…)okenizer_config.json:   0%|          | 0.00/86.0 [00:00<?, ?B/s]"
            ],
            "application/vnd.jupyter.widget-view+json": {
              "version_major": 2,
              "version_minor": 0,
              "model_id": "debc2aacc7604fc5a0420a1a7d26cdb3"
            }
          },
          "metadata": {}
        }
      ],
      "source": [
        "import tensorflow as tf\n",
        "from transformers import BertModel, BertTokenizer\n",
        "tokenizer = BertTokenizer.from_pretrained(\"Rostlab/prot_bert\", do_lower_case=False )"
      ]
    },
    {
      "cell_type": "code",
      "execution_count": null,
      "metadata": {
        "colab": {
          "base_uri": "https://localhost:8080/"
        },
        "id": "fHkXoMWCeIUz",
        "outputId": "71e057ac-d791-4cb2-99dd-1c1b7bef04b2"
      },
      "outputs": [
        {
          "output_type": "stream",
          "name": "stdout",
          "text": [
            " Original:  M E P E A P D S R K R P L E T P P E V V C T K R S N T G E E G E Y F L K V L I P S Y A A G S I I G K G G Q T I V Q L Q K E T G A T I K L S K S K D F Y P G T T E R V C L V Q G T A E A L N A V H S F I A E K V R E I P Q A M T K P E V V N I L Q P Q T T M N P D R A K Q A K L I V P N S T A G L I I G K G G A T V K A V M E Q S G A W V Q L S Q K P E G I N L Q E R V V T V S G E P E Q V H K A V S A I V Q K V Q E D P Q S S S C L N I S Y A N V A G P V A N S N P T G S P Y A S P A D V L P A A A A A S A A A A S G L L G P A G L A G V G A F P A A L P A F S G T D L L A I S T A L N T L A S Y G Y N T N S L S L G L N S A A A S G V L A A V A A G A N P A A A A A A N L L A S Y A G D A G A G P G A G A A P P P P P P P G A L G S F A L A A A A N G Y L G A G A G G A A G A G G A P L V A A A A A A G A A G G F L T A E K L A A E S A K E L V E I A V P E N L V G A I L G K G G K T L V E Y Q E L T G A R I Q I S K K G E F L P G T R N R R V T I T G S P A A T Q A A Q Y L I S Q R V T Y E Q G V R A S N P Q K V G \n",
            "Tokenized:  ['M', 'E', 'P', 'E', 'A', 'P', 'D', 'S', 'R', 'K', 'R', 'P', 'L', 'E', 'T', 'P', 'P', 'E', 'V', 'V', 'C', 'T', 'K', 'R', 'S', 'N', 'T', 'G', 'E', 'E', 'G', 'E', 'Y', 'F', 'L', 'K', 'V', 'L', 'I', 'P', 'S', 'Y', 'A', 'A', 'G', 'S', 'I', 'I', 'G', 'K', 'G', 'G', 'Q', 'T', 'I', 'V', 'Q', 'L', 'Q', 'K', 'E', 'T', 'G', 'A', 'T', 'I', 'K', 'L', 'S', 'K', 'S', 'K', 'D', 'F', 'Y', 'P', 'G', 'T', 'T', 'E', 'R', 'V', 'C', 'L', 'V', 'Q', 'G', 'T', 'A', 'E', 'A', 'L', 'N', 'A', 'V', 'H', 'S', 'F', 'I', 'A', 'E', 'K', 'V', 'R', 'E', 'I', 'P', 'Q', 'A', 'M', 'T', 'K', 'P', 'E', 'V', 'V', 'N', 'I', 'L', 'Q', 'P', 'Q', 'T', 'T', 'M', 'N', 'P', 'D', 'R', 'A', 'K', 'Q', 'A', 'K', 'L', 'I', 'V', 'P', 'N', 'S', 'T', 'A', 'G', 'L', 'I', 'I', 'G', 'K', 'G', 'G', 'A', 'T', 'V', 'K', 'A', 'V', 'M', 'E', 'Q', 'S', 'G', 'A', 'W', 'V', 'Q', 'L', 'S', 'Q', 'K', 'P', 'E', 'G', 'I', 'N', 'L', 'Q', 'E', 'R', 'V', 'V', 'T', 'V', 'S', 'G', 'E', 'P', 'E', 'Q', 'V', 'H', 'K', 'A', 'V', 'S', 'A', 'I', 'V', 'Q', 'K', 'V', 'Q', 'E', 'D', 'P', 'Q', 'S', 'S', 'S', 'C', 'L', 'N', 'I', 'S', 'Y', 'A', 'N', 'V', 'A', 'G', 'P', 'V', 'A', 'N', 'S', 'N', 'P', 'T', 'G', 'S', 'P', 'Y', 'A', 'S', 'P', 'A', 'D', 'V', 'L', 'P', 'A', 'A', 'A', 'A', 'A', 'S', 'A', 'A', 'A', 'A', 'S', 'G', 'L', 'L', 'G', 'P', 'A', 'G', 'L', 'A', 'G', 'V', 'G', 'A', 'F', 'P', 'A', 'A', 'L', 'P', 'A', 'F', 'S', 'G', 'T', 'D', 'L', 'L', 'A', 'I', 'S', 'T', 'A', 'L', 'N', 'T', 'L', 'A', 'S', 'Y', 'G', 'Y', 'N', 'T', 'N', 'S', 'L', 'S', 'L', 'G', 'L', 'N', 'S', 'A', 'A', 'A', 'S', 'G', 'V', 'L', 'A', 'A', 'V', 'A', 'A', 'G', 'A', 'N', 'P', 'A', 'A', 'A', 'A', 'A', 'A', 'N', 'L', 'L', 'A', 'S', 'Y', 'A', 'G', 'D', 'A', 'G', 'A', 'G', 'P', 'G', 'A', 'G', 'A', 'A', 'P', 'P', 'P', 'P', 'P', 'P', 'P', 'G', 'A', 'L', 'G', 'S', 'F', 'A', 'L', 'A', 'A', 'A', 'A', 'N', 'G', 'Y', 'L', 'G', 'A', 'G', 'A', 'G', 'G', 'A', 'A', 'G', 'A', 'G', 'G', 'A', 'P', 'L', 'V', 'A', 'A', 'A', 'A', 'A', 'A', 'G', 'A', 'A', 'G', 'G', 'F', 'L', 'T', 'A', 'E', 'K', 'L', 'A', 'A', 'E', 'S', 'A', 'K', 'E', 'L', 'V', 'E', 'I', 'A', 'V', 'P', 'E', 'N', 'L', 'V', 'G', 'A', 'I', 'L', 'G', 'K', 'G', 'G', 'K', 'T', 'L', 'V', 'E', 'Y', 'Q', 'E', 'L', 'T', 'G', 'A', 'R', 'I', 'Q', 'I', 'S', 'K', 'K', 'G', 'E', 'F', 'L', 'P', 'G', 'T', 'R', 'N', 'R', 'R', 'V', 'T', 'I', 'T', 'G', 'S', 'P', 'A', 'A', 'T', 'Q', 'A', 'A', 'Q', 'Y', 'L', 'I', 'S', 'Q', 'R', 'V', 'T', 'Y', 'E', 'Q', 'G', 'V', 'R', 'A', 'S', 'N', 'P', 'Q', 'K', 'V', 'G']\n",
            "Token IDs:  [21, 9, 16, 9, 6, 16, 14, 10, 13, 12, 13, 16, 5, 9, 15, 16, 16, 9, 8, 8, 23, 15, 12, 13, 10, 17, 15, 7, 9, 9, 7, 9, 20, 19, 5, 12, 8, 5, 11, 16, 10, 20, 6, 6, 7, 10, 11, 11, 7, 12, 7, 7, 18, 15, 11, 8, 18, 5, 18, 12, 9, 15, 7, 6, 15, 11, 12, 5, 10, 12, 10, 12, 14, 19, 20, 16, 7, 15, 15, 9, 13, 8, 23, 5, 8, 18, 7, 15, 6, 9, 6, 5, 17, 6, 8, 22, 10, 19, 11, 6, 9, 12, 8, 13, 9, 11, 16, 18, 6, 21, 15, 12, 16, 9, 8, 8, 17, 11, 5, 18, 16, 18, 15, 15, 21, 17, 16, 14, 13, 6, 12, 18, 6, 12, 5, 11, 8, 16, 17, 10, 15, 6, 7, 5, 11, 11, 7, 12, 7, 7, 6, 15, 8, 12, 6, 8, 21, 9, 18, 10, 7, 6, 24, 8, 18, 5, 10, 18, 12, 16, 9, 7, 11, 17, 5, 18, 9, 13, 8, 8, 15, 8, 10, 7, 9, 16, 9, 18, 8, 22, 12, 6, 8, 10, 6, 11, 8, 18, 12, 8, 18, 9, 14, 16, 18, 10, 10, 10, 23, 5, 17, 11, 10, 20, 6, 17, 8, 6, 7, 16, 8, 6, 17, 10, 17, 16, 15, 7, 10, 16, 20, 6, 10, 16, 6, 14, 8, 5, 16, 6, 6, 6, 6, 6, 10, 6, 6, 6, 6, 10, 7, 5, 5, 7, 16, 6, 7, 5, 6, 7, 8, 7, 6, 19, 16, 6, 6, 5, 16, 6, 19, 10, 7, 15, 14, 5, 5, 6, 11, 10, 15, 6, 5, 17, 15, 5, 6, 10, 20, 7, 20, 17, 15, 17, 10, 5, 10, 5, 7, 5, 17, 10, 6, 6, 6, 10, 7, 8, 5, 6, 6, 8, 6, 6, 7, 6, 17, 16, 6, 6, 6, 6, 6, 6, 17, 5, 5, 6, 10, 20, 6, 7, 14, 6, 7, 6, 7, 16, 7, 6, 7, 6, 6, 16, 16, 16, 16, 16, 16, 16, 7, 6, 5, 7, 10, 19, 6, 5, 6, 6, 6, 6, 17, 7, 20, 5, 7, 6, 7, 6, 7, 7, 6, 6, 7, 6, 7, 7, 6, 16, 5, 8, 6, 6, 6, 6, 6, 6, 7, 6, 6, 7, 7, 19, 5, 15, 6, 9, 12, 5, 6, 6, 9, 10, 6, 12, 9, 5, 8, 9, 11, 6, 8, 16, 9, 17, 5, 8, 7, 6, 11, 5, 7, 12, 7, 7, 12, 15, 5, 8, 9, 20, 18, 9, 5, 15, 7, 6, 13, 11, 18, 11, 10, 12, 12, 7, 9, 19, 5, 16, 7, 15, 13, 17, 13, 13, 8, 15, 11, 15, 7, 10, 16, 6, 6, 15, 18, 6, 6, 18, 20, 5, 11, 10, 18, 13, 8, 15, 20, 9, 18, 7, 8, 13, 6, 10, 17, 16, 18, 12, 8, 7]\n"
          ]
        }
      ],
      "source": [
        "# Print the original sentence.\n",
        "print(' Original: ', seq_spase[0])\n",
        "\n",
        "# Print the sentence split into tokens.\n",
        "print('Tokenized: ', tokenizer.tokenize(seq_spase[0]))\n",
        "\n",
        "# Print the sentence mapped to token ids.\n",
        "print('Token IDs: ', tokenizer.convert_tokens_to_ids(tokenizer.tokenize(seq_spase[0])))"
      ]
    },
    {
      "cell_type": "code",
      "execution_count": null,
      "metadata": {
        "colab": {
          "base_uri": "https://localhost:8080/"
        },
        "id": "YzisW3YRkXml",
        "outputId": "88555df3-d9c8-49ff-b631-7272bdf12a64"
      },
      "outputs": [
        {
          "output_type": "stream",
          "name": "stdout",
          "text": [
            "Max seq length:  502\n"
          ]
        }
      ],
      "source": [
        "max_len = 0\n",
        "for seq in seq_spase:\n",
        "    input_ids = tokenizer.encode(seq, add_special_tokens=True)\n",
        "    max_len = max(max_len, len(input_ids))\n",
        "print('Max seq length: ', max_len)"
      ]
    },
    {
      "cell_type": "markdown",
      "source": [
        "Функция для токенизации"
      ],
      "metadata": {
        "id": "up8-FsdUrACQ"
      }
    },
    {
      "cell_type": "code",
      "source": [
        "def tokenize_all(seq_spase, all_labels): #tokenizeall of the sentences and map the tokens to thier word IDs.\n",
        "  input_ids = []\n",
        "  attention_masks = []\n",
        "\n",
        "  for seq in seq_spase:\n",
        "      encoded_dict = tokenizer.encode_plus(seq, add_special_tokens = True, # Add '[CLS]' and '[SEP]'\n",
        "                          max_length = 350, pad_to_max_length = True, # Я использую 350, так как образцы большей длины не влезают в GPU Colab\n",
        "                          return_attention_mask = True, return_tensors = 'pt')\n",
        "\n",
        "      input_ids.append(encoded_dict['input_ids'])\n",
        "      attention_masks.append(encoded_dict['attention_mask'])\n",
        "\n",
        "  # Convert the lists into tensors.\n",
        "  input_ids = torch.cat(input_ids, dim=0)\n",
        "  attention_masks = torch.cat(attention_masks, dim=0)\n",
        "  labels = torch.tensor(all_labels)\n",
        "  return (input_ids, attention_masks, labels)"
      ],
      "metadata": {
        "id": "zUIVMXUjrI09"
      },
      "execution_count": null,
      "outputs": []
    },
    {
      "cell_type": "code",
      "execution_count": null,
      "metadata": {
        "id": "rxoWX4msmwH9",
        "colab": {
          "base_uri": "https://localhost:8080/"
        },
        "outputId": "30f919d7-1a97-4b08-9705-c20a0d383a24"
      },
      "outputs": [
        {
          "output_type": "stream",
          "name": "stdout",
          "text": [
            "Original:  M E P E A P D S R K R P L E T P P E V V C T K R S N T G E E G E Y F L K V L I P S Y A A G S I I G K G G Q T I V Q L Q K E T G A T I K L S K S K D F Y P G T T E R V C L V Q G T A E A L N A V H S F I A E K V R E I P Q A M T K P E V V N I L Q P Q T T M N P D R A K Q A K L I V P N S T A G L I I G K G G A T V K A V M E Q S G A W V Q L S Q K P E G I N L Q E R V V T V S G E P E Q V H K A V S A I V Q K V Q E D P Q S S S C L N I S Y A N V A G P V A N S N P T G S P Y A S P A D V L P A A A A A S A A A A S G L L G P A G L A G V G A F P A A L P A F S G T D L L A I S T A L N T L A S Y G Y N T N S L S L G L N S A A A S G V L A A V A A G A N P A A A A A A N L L A S Y A G D A G A G P G A G A A P P P P P P P G A L G S F A L A A A A N G Y L G A G A G G A A G A G G A P L V A A A A A A G A A G G F L T A E K L A A E S A K E L V E I A V P E N L V G A I L G K G G K T L V E Y Q E L T G A R I Q I S K K G E F L P G T R N R R V T I T G S P A A T Q A A Q Y L I S Q R V T Y E Q G V R A S N P Q K V G \n",
            "Token IDs: tensor([ 2, 21,  9, 16,  9,  6, 16, 14, 10, 13, 12, 13, 16,  5,  9, 15, 16, 16,\n",
            "         9,  8,  8, 23, 15, 12, 13, 10, 17, 15,  7,  9,  9,  7,  9, 20, 19,  5,\n",
            "        12,  8,  5, 11, 16, 10, 20,  6,  6,  7, 10, 11, 11,  7, 12,  7,  7, 18,\n",
            "        15, 11,  8, 18,  5, 18, 12,  9, 15,  7,  6, 15, 11, 12,  5, 10, 12, 10,\n",
            "        12, 14, 19, 20, 16,  7, 15, 15,  9, 13,  8, 23,  5,  8, 18,  7, 15,  6,\n",
            "         9,  6,  5, 17,  6,  8, 22, 10, 19, 11,  6,  9, 12,  8, 13,  9, 11, 16,\n",
            "        18,  6, 21, 15, 12, 16,  9,  8,  8, 17, 11,  5, 18, 16, 18, 15, 15, 21,\n",
            "        17, 16, 14, 13,  6, 12, 18,  6, 12,  5, 11,  8, 16, 17, 10, 15,  6,  7,\n",
            "         5, 11, 11,  7, 12,  7,  7,  6, 15,  8, 12,  6,  8, 21,  9, 18, 10,  7,\n",
            "         6, 24,  8, 18,  5, 10, 18, 12, 16,  9,  7, 11, 17,  5, 18,  9, 13,  8,\n",
            "         8, 15,  8, 10,  7,  9, 16,  9, 18,  8, 22, 12,  6,  8, 10,  6, 11,  8,\n",
            "        18, 12,  8, 18,  9, 14, 16, 18, 10, 10, 10, 23,  5, 17, 11, 10, 20,  6,\n",
            "        17,  8,  6,  7, 16,  8,  6, 17, 10, 17, 16, 15,  7, 10, 16, 20,  6, 10,\n",
            "        16,  6, 14,  8,  5, 16,  6,  6,  6,  6,  6, 10,  6,  6,  6,  6, 10,  7,\n",
            "         5,  5,  7, 16,  6,  7,  5,  6,  7,  8,  7,  6, 19, 16,  6,  6,  5, 16,\n",
            "         6, 19, 10,  7, 15, 14,  5,  5,  6, 11, 10, 15,  6,  5, 17, 15,  5,  6,\n",
            "        10, 20,  7, 20, 17, 15, 17, 10,  5, 10,  5,  7,  5, 17, 10,  6,  6,  6,\n",
            "        10,  7,  8,  5,  6,  6,  8,  6,  6,  7,  6, 17, 16,  6,  6,  6,  6,  6,\n",
            "         6, 17,  5,  5,  6, 10, 20,  6,  7, 14,  6,  7,  6,  7, 16,  7,  6,  7,\n",
            "         6,  6, 16, 16, 16, 16, 16,  3])\n"
          ]
        }
      ],
      "source": [
        "input_ids, attention_masks, labels = tokenize_all(seq_spase, all_labels)\n",
        "\n",
        "print('Original: ', seq_spase[0])\n",
        "print('Token IDs:', input_ids[0])"
      ]
    },
    {
      "cell_type": "markdown",
      "source": [
        "Функция для разбиения на трейн, валидацию и тест"
      ],
      "metadata": {
        "id": "PzGnVbGlrQPO"
      }
    },
    {
      "cell_type": "code",
      "source": [
        "from torch.utils.data import TensorDataset, random_split\n",
        "\n",
        "\n",
        "def split_data(input_ids, attention_masks, labels, n_train=0.7, n_val=0.2):\n",
        "  # Combine the training inputs into a TensorDataset.\n",
        "  dataset = TensorDataset(input_ids, attention_masks, labels)\n",
        "\n",
        "  # Create a 70-20-10 train-validation split.\n",
        "\n",
        "  # Calculate the number of samples to include in each set.\n",
        "  train_size = int(n_train * len(dataset))\n",
        "  val_size = int(n_val * len(dataset))\n",
        "  test_size = len(dataset) - train_size - val_size\n",
        "\n",
        "  # Divide the dataset by randomly selecting samples.\n",
        "  train_dataset, val_dataset, test_dataset = random_split(dataset, [train_size, val_size, test_size])\n",
        "\n",
        "  print('{:>5,} training samples'.format(train_size))\n",
        "  print('{:>5,} validation samples'.format(val_size))\n",
        "  print('{:>5,} test samples'.format(test_size))\n",
        "  return train_dataset, val_dataset, test_dataset"
      ],
      "metadata": {
        "id": "ESU71U4frdhM"
      },
      "execution_count": null,
      "outputs": []
    },
    {
      "cell_type": "code",
      "execution_count": null,
      "metadata": {
        "id": "F8oCayPyjy1-",
        "colab": {
          "base_uri": "https://localhost:8080/"
        },
        "outputId": "1cbacec3-21af-48b8-f958-f07f41f925d7"
      },
      "outputs": [
        {
          "output_type": "stream",
          "name": "stdout",
          "text": [
            "  700 training samples\n",
            "  200 validation samples\n",
            "  100 test samples\n"
          ]
        }
      ],
      "source": [
        "train_dataset, val_dataset, test_dataset = split_data(input_ids, attention_masks, labels)"
      ]
    },
    {
      "cell_type": "markdown",
      "source": [
        "Создаем даталодер для трейна и валидации"
      ],
      "metadata": {
        "id": "yaQJJVlHrnBU"
      }
    },
    {
      "cell_type": "code",
      "execution_count": null,
      "metadata": {
        "id": "mqvdvw39kA8e"
      },
      "outputs": [],
      "source": [
        "from torch.utils.data import DataLoader, RandomSampler, SequentialSampler\n",
        "\n",
        "batch_size = 8\n",
        "\n",
        "train_dataloader = DataLoader(train_dataset,\n",
        "            sampler = RandomSampler(train_dataset),\n",
        "            batch_size = batch_size)\n",
        "\n",
        "validation_dataloader = DataLoader(val_dataset,\n",
        "            sampler = SequentialSampler(val_dataset),\n",
        "            batch_size = batch_size)"
      ]
    },
    {
      "cell_type": "code",
      "execution_count": null,
      "metadata": {
        "colab": {
          "base_uri": "https://localhost:8080/"
        },
        "id": "Q-2MMzS59Lhy",
        "outputId": "ba3695a6-c02b-4b83-e286-c8a30b95872e"
      },
      "outputs": [
        {
          "output_type": "stream",
          "name": "stderr",
          "text": [
            "Some weights of BertForSequenceClassification were not initialized from the model checkpoint at Rostlab/prot_bert and are newly initialized: ['classifier.weight', 'classifier.bias']\n",
            "You should probably TRAIN this model on a down-stream task to be able to use it for predictions and inference.\n"
          ]
        },
        {
          "output_type": "execute_result",
          "data": {
            "text/plain": [
              "BertForSequenceClassification(\n",
              "  (bert): BertModel(\n",
              "    (embeddings): BertEmbeddings(\n",
              "      (word_embeddings): Embedding(30, 1024, padding_idx=0)\n",
              "      (position_embeddings): Embedding(40000, 1024)\n",
              "      (token_type_embeddings): Embedding(2, 1024)\n",
              "      (LayerNorm): LayerNorm((1024,), eps=1e-12, elementwise_affine=True)\n",
              "      (dropout): Dropout(p=0.0, inplace=False)\n",
              "    )\n",
              "    (encoder): BertEncoder(\n",
              "      (layer): ModuleList(\n",
              "        (0-29): 30 x BertLayer(\n",
              "          (attention): BertAttention(\n",
              "            (self): BertSelfAttention(\n",
              "              (query): Linear(in_features=1024, out_features=1024, bias=True)\n",
              "              (key): Linear(in_features=1024, out_features=1024, bias=True)\n",
              "              (value): Linear(in_features=1024, out_features=1024, bias=True)\n",
              "              (dropout): Dropout(p=0.0, inplace=False)\n",
              "            )\n",
              "            (output): BertSelfOutput(\n",
              "              (dense): Linear(in_features=1024, out_features=1024, bias=True)\n",
              "              (LayerNorm): LayerNorm((1024,), eps=1e-12, elementwise_affine=True)\n",
              "              (dropout): Dropout(p=0.0, inplace=False)\n",
              "            )\n",
              "          )\n",
              "          (intermediate): BertIntermediate(\n",
              "            (dense): Linear(in_features=1024, out_features=4096, bias=True)\n",
              "            (intermediate_act_fn): GELUActivation()\n",
              "          )\n",
              "          (output): BertOutput(\n",
              "            (dense): Linear(in_features=4096, out_features=1024, bias=True)\n",
              "            (LayerNorm): LayerNorm((1024,), eps=1e-12, elementwise_affine=True)\n",
              "            (dropout): Dropout(p=0.0, inplace=False)\n",
              "          )\n",
              "        )\n",
              "      )\n",
              "    )\n",
              "    (pooler): BertPooler(\n",
              "      (dense): Linear(in_features=1024, out_features=1024, bias=True)\n",
              "      (activation): Tanh()\n",
              "    )\n",
              "  )\n",
              "  (dropout): Dropout(p=0.0, inplace=False)\n",
              "  (classifier): Linear(in_features=1024, out_features=4, bias=True)\n",
              ")"
            ]
          },
          "metadata": {},
          "execution_count": 64
        }
      ],
      "source": [
        "from transformers import BertForSequenceClassification, AdamW, BertConfig\n",
        "\n",
        "# Используем BertForSequenceClassification.\n",
        "model = BertForSequenceClassification.from_pretrained(\"Rostlab/prot_bert\",\n",
        "    num_labels = 4,\n",
        "    output_attentions = False,\n",
        "    output_hidden_states = False)\n",
        "\n",
        "model.cuda()"
      ]
    },
    {
      "cell_type": "code",
      "execution_count": null,
      "metadata": {
        "colab": {
          "base_uri": "https://localhost:8080/"
        },
        "id": "7EQBMO9uGyCU",
        "outputId": "1cce28cc-3883-4e18-e38e-9523799456d9"
      },
      "outputs": [
        {
          "output_type": "stream",
          "name": "stderr",
          "text": [
            "/usr/local/lib/python3.10/dist-packages/transformers/optimization.py:411: FutureWarning: This implementation of AdamW is deprecated and will be removed in a future version. Use the PyTorch implementation torch.optim.AdamW instead, or set `no_deprecation_warning=True` to disable this warning\n",
            "  warnings.warn(\n"
          ]
        }
      ],
      "source": [
        "optimizer = AdamW(model.parameters(),\n",
        "                  lr = 3e-5,\n",
        "                  eps = 1e-8)"
      ]
    },
    {
      "cell_type": "code",
      "execution_count": null,
      "metadata": {
        "id": "2rZ2ZUIQG_jy"
      },
      "outputs": [],
      "source": [
        "from transformers import get_linear_schedule_with_warmup\n",
        "epochs = 4\n",
        "\n",
        "total_steps = len(train_dataloader) * epochs\n",
        "\n",
        "# Создаем the learning rate scheduler.\n",
        "scheduler = get_linear_schedule_with_warmup(optimizer,\n",
        "                                            num_warmup_steps = 0, # Default value in run_glue.py\n",
        "                                            num_training_steps = total_steps)"
      ]
    },
    {
      "cell_type": "code",
      "execution_count": null,
      "metadata": {
        "id": "8AEAsrJGHJu8"
      },
      "outputs": [],
      "source": [
        "def flat_accuracy(preds, labels):\n",
        "    pred_flat = np.argmax(preds, axis=1).flatten()\n",
        "    labels_flat = labels.flatten()\n",
        "    return np.sum(pred_flat == labels_flat) / len(labels_flat)\n",
        "\n",
        "def format_time(elapsed):\n",
        "    # Takes a time in seconds and returns a string hh:mm:ss\n",
        "\n",
        "    elapsed_rounded = int(round((elapsed)))\n",
        "    return str(datetime.timedelta(seconds=elapsed_rounded))\n"
      ]
    },
    {
      "cell_type": "markdown",
      "source": [
        "### Fine tuning"
      ],
      "metadata": {
        "id": "sZ64BgVOtz02"
      }
    },
    {
      "cell_type": "code",
      "execution_count": null,
      "metadata": {
        "id": "rNXpG9MeHQSZ"
      },
      "outputs": [],
      "source": [
        "# Set the seed value all over the place to make this reproducible.\n",
        "seed_val = 42\n",
        "\n",
        "random.seed(seed_val)\n",
        "np.random.seed(seed_val)\n",
        "torch.manual_seed(seed_val)\n",
        "torch.cuda.manual_seed_all(seed_val)\n",
        "\n",
        "training_stats = []\n",
        "\n",
        "# Measure the total training time for the whole run.\n",
        "total_t0 = time.time()\n",
        "\n",
        "\n",
        "for epoch_i in range(0, epochs):\n",
        "    print(\"\")\n",
        "    print('======== Epoch {:} / {:} ========'.format(epoch_i + 1, epochs))\n",
        "    print('Training...')\n",
        "\n",
        "    t0 = time.time()\n",
        "\n",
        "    # Reset the total loss for this epoch.\n",
        "    total_train_loss = 0\n",
        "\n",
        "    model.train()\n",
        "\n",
        "    for step, batch in enumerate(train_dataloader):\n",
        "\n",
        "        if step % 40 == 0 and not step == 0:\n",
        "            # Calculate elapsed time in minutes.\n",
        "            elapsed = format_time(time.time() - t0)\n",
        "\n",
        "            # Report progress.\n",
        "            print('  Batch {:>5,}  of  {:>5,}.    Elapsed: {:}.'.format(step, len(train_dataloader), elapsed))\n",
        "\n",
        "        b_input_ids = batch[0].to(device)\n",
        "        b_input_mask = batch[1].to(device)\n",
        "        b_labels = batch[2].to(device)\n",
        "\n",
        "\n",
        "        model.zero_grad()\n",
        "\n",
        "\n",
        "        res = model(b_input_ids, token_type_ids=None, attention_mask=b_input_mask, labels=b_labels)\n",
        "        loss = res['loss']\n",
        "        logits = res['logits']\n",
        "\n",
        "        total_train_loss += loss.item()\n",
        "\n",
        "        loss.backward()\n",
        "\n",
        "        torch.nn.utils.clip_grad_norm_(model.parameters(), 1.0)\n",
        "\n",
        "        optimizer.step()\n",
        "\n",
        "        # Update the learning rate.\n",
        "        scheduler.step()\n",
        "\n",
        "    # Calculate the average loss over all of the batches.\n",
        "    avg_train_loss = total_train_loss / len(train_dataloader)\n",
        "\n",
        "    # Measure how long this epoch took.\n",
        "    training_time = format_time(time.time() - t0)\n",
        "\n",
        "    print(\"\")\n",
        "    print(\"  Average training loss: {0:.2f}\".format(avg_train_loss))\n",
        "    print(\"  Training epcoh took: {:}\".format(training_time))\n",
        "\n",
        "\n",
        "\n",
        "    #Validation\n",
        "    print(\"\")\n",
        "    print(\"Running Validation...\")\n",
        "\n",
        "    t0 = time.time()\n",
        "\n",
        "    model.eval()\n",
        "\n",
        "    # Tracking variables\n",
        "    total_eval_accuracy = 0\n",
        "    total_eval_loss = 0\n",
        "    nb_eval_steps = 0\n",
        "\n",
        "    # Evaluate data for one epoch\n",
        "    for batch in validation_dataloader:\n",
        "\n",
        "        b_input_ids = batch[0].to(device)\n",
        "        b_input_mask = batch[1].to(device)\n",
        "        b_labels = batch[2].to(device)\n",
        "\n",
        "\n",
        "        with torch.no_grad():\n",
        "\n",
        "\n",
        "            res = model(b_input_ids,\n",
        "                                   token_type_ids=None,\n",
        "                                   attention_mask=b_input_mask,\n",
        "                                   labels=b_labels)\n",
        "        loss = res['loss']\n",
        "        logits = res['logits']\n",
        "\n",
        "        # Accumulate the validation loss.\n",
        "        total_eval_loss += loss.item()\n",
        "\n",
        "        # Move logits and labels to CPU\n",
        "        logits = logits.detach().cpu().numpy()\n",
        "        label_ids = b_labels.to('cpu').numpy()\n",
        "\n",
        "        # Calculate the accuracy for this batch of test sentences, and accumulate it over all batches.\n",
        "        total_eval_accuracy += flat_accuracy(logits, label_ids)\n",
        "\n",
        "\n",
        "    # Report the final accuracy for this validation run.\n",
        "    avg_val_accuracy = total_eval_accuracy / len(validation_dataloader)\n",
        "    print(\"  Accuracy: {0:.2f}\".format(avg_val_accuracy))\n",
        "\n",
        "    # Calculate the average loss over all of the batches.\n",
        "    avg_val_loss = total_eval_loss / len(validation_dataloader)\n",
        "\n",
        "    # Measure how long the validation run took.\n",
        "    validation_time = format_time(time.time() - t0)\n",
        "\n",
        "    print(\"  Validation Loss: {0:.2f}\".format(avg_val_loss))\n",
        "    print(\"  Validation took: {:}\".format(validation_time))\n",
        "\n",
        "    # Record all statistics from this epoch.\n",
        "    training_stats.append(\n",
        "        {\n",
        "            'epoch': epoch_i + 1,\n",
        "            'Training Loss': avg_train_loss,\n",
        "            'Valid. Loss': avg_val_loss,\n",
        "            'Valid. Accur.': avg_val_accuracy,\n",
        "            'Training Time': training_time,\n",
        "            'Validation Time': validation_time\n",
        "        }\n",
        "    )\n",
        "\n",
        "print(\"\")\n",
        "print(\"Training complete!\")\n",
        "\n",
        "print(\"Total training took {:} (h:mm:ss)\".format(format_time(time.time()-total_t0)))"
      ]
    },
    {
      "cell_type": "code",
      "execution_count": null,
      "metadata": {
        "colab": {
          "base_uri": "https://localhost:8080/",
          "height": 174
        },
        "id": "1mNmZ3z5cHR9",
        "outputId": "7bd6baeb-01a7-4297-d944-cc457f2d106b"
      },
      "outputs": [
        {
          "output_type": "execute_result",
          "data": {
            "text/plain": [
              "       Training Loss  Valid. Loss  Valid. Accur. Training Time Validation Time\n",
              "epoch                                                                         \n",
              "1           0.663912     0.534988          0.835       0:03:21         0:00:17\n",
              "2           0.231884     0.446679          0.835       0:03:20         0:00:17\n",
              "3           0.095147     0.490584          0.845       0:03:20         0:00:17"
            ],
            "text/html": [
              "\n",
              "  <div id=\"df-72ed7a56-2a29-48bb-b72f-a727ae227580\" class=\"colab-df-container\">\n",
              "    <div>\n",
              "<style scoped>\n",
              "    .dataframe tbody tr th:only-of-type {\n",
              "        vertical-align: middle;\n",
              "    }\n",
              "\n",
              "    .dataframe tbody tr th {\n",
              "        vertical-align: top;\n",
              "    }\n",
              "\n",
              "    .dataframe thead th {\n",
              "        text-align: right;\n",
              "    }\n",
              "</style>\n",
              "<table border=\"1\" class=\"dataframe\">\n",
              "  <thead>\n",
              "    <tr style=\"text-align: right;\">\n",
              "      <th></th>\n",
              "      <th>Training Loss</th>\n",
              "      <th>Valid. Loss</th>\n",
              "      <th>Valid. Accur.</th>\n",
              "      <th>Training Time</th>\n",
              "      <th>Validation Time</th>\n",
              "    </tr>\n",
              "    <tr>\n",
              "      <th>epoch</th>\n",
              "      <th></th>\n",
              "      <th></th>\n",
              "      <th></th>\n",
              "      <th></th>\n",
              "      <th></th>\n",
              "    </tr>\n",
              "  </thead>\n",
              "  <tbody>\n",
              "    <tr>\n",
              "      <th>1</th>\n",
              "      <td>0.663912</td>\n",
              "      <td>0.534988</td>\n",
              "      <td>0.835</td>\n",
              "      <td>0:03:21</td>\n",
              "      <td>0:00:17</td>\n",
              "    </tr>\n",
              "    <tr>\n",
              "      <th>2</th>\n",
              "      <td>0.231884</td>\n",
              "      <td>0.446679</td>\n",
              "      <td>0.835</td>\n",
              "      <td>0:03:20</td>\n",
              "      <td>0:00:17</td>\n",
              "    </tr>\n",
              "    <tr>\n",
              "      <th>3</th>\n",
              "      <td>0.095147</td>\n",
              "      <td>0.490584</td>\n",
              "      <td>0.845</td>\n",
              "      <td>0:03:20</td>\n",
              "      <td>0:00:17</td>\n",
              "    </tr>\n",
              "  </tbody>\n",
              "</table>\n",
              "</div>\n",
              "    <div class=\"colab-df-buttons\">\n",
              "\n",
              "  <div class=\"colab-df-container\">\n",
              "    <button class=\"colab-df-convert\" onclick=\"convertToInteractive('df-72ed7a56-2a29-48bb-b72f-a727ae227580')\"\n",
              "            title=\"Convert this dataframe to an interactive table.\"\n",
              "            style=\"display:none;\">\n",
              "\n",
              "  <svg xmlns=\"http://www.w3.org/2000/svg\" height=\"24px\" viewBox=\"0 -960 960 960\">\n",
              "    <path d=\"M120-120v-720h720v720H120Zm60-500h600v-160H180v160Zm220 220h160v-160H400v160Zm0 220h160v-160H400v160ZM180-400h160v-160H180v160Zm440 0h160v-160H620v160ZM180-180h160v-160H180v160Zm440 0h160v-160H620v160Z\"/>\n",
              "  </svg>\n",
              "    </button>\n",
              "\n",
              "  <style>\n",
              "    .colab-df-container {\n",
              "      display:flex;\n",
              "      gap: 12px;\n",
              "    }\n",
              "\n",
              "    .colab-df-convert {\n",
              "      background-color: #E8F0FE;\n",
              "      border: none;\n",
              "      border-radius: 50%;\n",
              "      cursor: pointer;\n",
              "      display: none;\n",
              "      fill: #1967D2;\n",
              "      height: 32px;\n",
              "      padding: 0 0 0 0;\n",
              "      width: 32px;\n",
              "    }\n",
              "\n",
              "    .colab-df-convert:hover {\n",
              "      background-color: #E2EBFA;\n",
              "      box-shadow: 0px 1px 2px rgba(60, 64, 67, 0.3), 0px 1px 3px 1px rgba(60, 64, 67, 0.15);\n",
              "      fill: #174EA6;\n",
              "    }\n",
              "\n",
              "    .colab-df-buttons div {\n",
              "      margin-bottom: 4px;\n",
              "    }\n",
              "\n",
              "    [theme=dark] .colab-df-convert {\n",
              "      background-color: #3B4455;\n",
              "      fill: #D2E3FC;\n",
              "    }\n",
              "\n",
              "    [theme=dark] .colab-df-convert:hover {\n",
              "      background-color: #434B5C;\n",
              "      box-shadow: 0px 1px 3px 1px rgba(0, 0, 0, 0.15);\n",
              "      filter: drop-shadow(0px 1px 2px rgba(0, 0, 0, 0.3));\n",
              "      fill: #FFFFFF;\n",
              "    }\n",
              "  </style>\n",
              "\n",
              "    <script>\n",
              "      const buttonEl =\n",
              "        document.querySelector('#df-72ed7a56-2a29-48bb-b72f-a727ae227580 button.colab-df-convert');\n",
              "      buttonEl.style.display =\n",
              "        google.colab.kernel.accessAllowed ? 'block' : 'none';\n",
              "\n",
              "      async function convertToInteractive(key) {\n",
              "        const element = document.querySelector('#df-72ed7a56-2a29-48bb-b72f-a727ae227580');\n",
              "        const dataTable =\n",
              "          await google.colab.kernel.invokeFunction('convertToInteractive',\n",
              "                                                    [key], {});\n",
              "        if (!dataTable) return;\n",
              "\n",
              "        const docLinkHtml = 'Like what you see? Visit the ' +\n",
              "          '<a target=\"_blank\" href=https://colab.research.google.com/notebooks/data_table.ipynb>data table notebook</a>'\n",
              "          + ' to learn more about interactive tables.';\n",
              "        element.innerHTML = '';\n",
              "        dataTable['output_type'] = 'display_data';\n",
              "        await google.colab.output.renderOutput(dataTable, element);\n",
              "        const docLink = document.createElement('div');\n",
              "        docLink.innerHTML = docLinkHtml;\n",
              "        element.appendChild(docLink);\n",
              "      }\n",
              "    </script>\n",
              "  </div>\n",
              "\n",
              "\n",
              "<div id=\"df-7d156438-43ff-4828-9e0f-7d5bdfb013d2\">\n",
              "  <button class=\"colab-df-quickchart\" onclick=\"quickchart('df-7d156438-43ff-4828-9e0f-7d5bdfb013d2')\"\n",
              "            title=\"Suggest charts.\"\n",
              "            style=\"display:none;\">\n",
              "\n",
              "<svg xmlns=\"http://www.w3.org/2000/svg\" height=\"24px\"viewBox=\"0 0 24 24\"\n",
              "     width=\"24px\">\n",
              "    <g>\n",
              "        <path d=\"M19 3H5c-1.1 0-2 .9-2 2v14c0 1.1.9 2 2 2h14c1.1 0 2-.9 2-2V5c0-1.1-.9-2-2-2zM9 17H7v-7h2v7zm4 0h-2V7h2v10zm4 0h-2v-4h2v4z\"/>\n",
              "    </g>\n",
              "</svg>\n",
              "  </button>\n",
              "\n",
              "<style>\n",
              "  .colab-df-quickchart {\n",
              "      --bg-color: #E8F0FE;\n",
              "      --fill-color: #1967D2;\n",
              "      --hover-bg-color: #E2EBFA;\n",
              "      --hover-fill-color: #174EA6;\n",
              "      --disabled-fill-color: #AAA;\n",
              "      --disabled-bg-color: #DDD;\n",
              "  }\n",
              "\n",
              "  [theme=dark] .colab-df-quickchart {\n",
              "      --bg-color: #3B4455;\n",
              "      --fill-color: #D2E3FC;\n",
              "      --hover-bg-color: #434B5C;\n",
              "      --hover-fill-color: #FFFFFF;\n",
              "      --disabled-bg-color: #3B4455;\n",
              "      --disabled-fill-color: #666;\n",
              "  }\n",
              "\n",
              "  .colab-df-quickchart {\n",
              "    background-color: var(--bg-color);\n",
              "    border: none;\n",
              "    border-radius: 50%;\n",
              "    cursor: pointer;\n",
              "    display: none;\n",
              "    fill: var(--fill-color);\n",
              "    height: 32px;\n",
              "    padding: 0;\n",
              "    width: 32px;\n",
              "  }\n",
              "\n",
              "  .colab-df-quickchart:hover {\n",
              "    background-color: var(--hover-bg-color);\n",
              "    box-shadow: 0 1px 2px rgba(60, 64, 67, 0.3), 0 1px 3px 1px rgba(60, 64, 67, 0.15);\n",
              "    fill: var(--button-hover-fill-color);\n",
              "  }\n",
              "\n",
              "  .colab-df-quickchart-complete:disabled,\n",
              "  .colab-df-quickchart-complete:disabled:hover {\n",
              "    background-color: var(--disabled-bg-color);\n",
              "    fill: var(--disabled-fill-color);\n",
              "    box-shadow: none;\n",
              "  }\n",
              "\n",
              "  .colab-df-spinner {\n",
              "    border: 2px solid var(--fill-color);\n",
              "    border-color: transparent;\n",
              "    border-bottom-color: var(--fill-color);\n",
              "    animation:\n",
              "      spin 1s steps(1) infinite;\n",
              "  }\n",
              "\n",
              "  @keyframes spin {\n",
              "    0% {\n",
              "      border-color: transparent;\n",
              "      border-bottom-color: var(--fill-color);\n",
              "      border-left-color: var(--fill-color);\n",
              "    }\n",
              "    20% {\n",
              "      border-color: transparent;\n",
              "      border-left-color: var(--fill-color);\n",
              "      border-top-color: var(--fill-color);\n",
              "    }\n",
              "    30% {\n",
              "      border-color: transparent;\n",
              "      border-left-color: var(--fill-color);\n",
              "      border-top-color: var(--fill-color);\n",
              "      border-right-color: var(--fill-color);\n",
              "    }\n",
              "    40% {\n",
              "      border-color: transparent;\n",
              "      border-right-color: var(--fill-color);\n",
              "      border-top-color: var(--fill-color);\n",
              "    }\n",
              "    60% {\n",
              "      border-color: transparent;\n",
              "      border-right-color: var(--fill-color);\n",
              "    }\n",
              "    80% {\n",
              "      border-color: transparent;\n",
              "      border-right-color: var(--fill-color);\n",
              "      border-bottom-color: var(--fill-color);\n",
              "    }\n",
              "    90% {\n",
              "      border-color: transparent;\n",
              "      border-bottom-color: var(--fill-color);\n",
              "    }\n",
              "  }\n",
              "</style>\n",
              "\n",
              "  <script>\n",
              "    async function quickchart(key) {\n",
              "      const quickchartButtonEl =\n",
              "        document.querySelector('#' + key + ' button');\n",
              "      quickchartButtonEl.disabled = true;  // To prevent multiple clicks.\n",
              "      quickchartButtonEl.classList.add('colab-df-spinner');\n",
              "      try {\n",
              "        const charts = await google.colab.kernel.invokeFunction(\n",
              "            'suggestCharts', [key], {});\n",
              "      } catch (error) {\n",
              "        console.error('Error during call to suggestCharts:', error);\n",
              "      }\n",
              "      quickchartButtonEl.classList.remove('colab-df-spinner');\n",
              "      quickchartButtonEl.classList.add('colab-df-quickchart-complete');\n",
              "    }\n",
              "    (() => {\n",
              "      let quickchartButtonEl =\n",
              "        document.querySelector('#df-7d156438-43ff-4828-9e0f-7d5bdfb013d2 button');\n",
              "      quickchartButtonEl.style.display =\n",
              "        google.colab.kernel.accessAllowed ? 'block' : 'none';\n",
              "    })();\n",
              "  </script>\n",
              "</div>\n",
              "    </div>\n",
              "  </div>\n"
            ]
          },
          "metadata": {},
          "execution_count": 30
        }
      ],
      "source": [
        "import pandas as pd\n",
        "\n",
        "df_stats = pd.DataFrame(data=training_stats)\n",
        "\n",
        "df_stats = df_stats.set_index('epoch')\n",
        "\n",
        "\n",
        "df_stats"
      ]
    },
    {
      "cell_type": "code",
      "execution_count": null,
      "metadata": {
        "colab": {
          "base_uri": "https://localhost:8080/",
          "height": 695
        },
        "id": "G2pXovWyFuCs",
        "outputId": "6fee7779-67b4-4205-adeb-6e2067c9ab5f"
      },
      "outputs": [
        {
          "output_type": "execute_result",
          "data": {
            "text/plain": [
              "[<matplotlib.lines.Line2D at 0x787748f18430>]"
            ]
          },
          "metadata": {},
          "execution_count": 31
        },
        {
          "output_type": "execute_result",
          "data": {
            "text/plain": [
              "[<matplotlib.lines.Line2D at 0x787748f19e10>]"
            ]
          },
          "metadata": {},
          "execution_count": 31
        },
        {
          "output_type": "execute_result",
          "data": {
            "text/plain": [
              "Text(0.5, 1.0, 'Training & Validation Loss')"
            ]
          },
          "metadata": {},
          "execution_count": 31
        },
        {
          "output_type": "execute_result",
          "data": {
            "text/plain": [
              "Text(0.5, 0, 'Epoch')"
            ]
          },
          "metadata": {},
          "execution_count": 31
        },
        {
          "output_type": "execute_result",
          "data": {
            "text/plain": [
              "Text(0, 0.5, 'Loss')"
            ]
          },
          "metadata": {},
          "execution_count": 31
        },
        {
          "output_type": "execute_result",
          "data": {
            "text/plain": [
              "<matplotlib.legend.Legend at 0x7877493d2230>"
            ]
          },
          "metadata": {},
          "execution_count": 31
        },
        {
          "output_type": "execute_result",
          "data": {
            "text/plain": [
              "([<matplotlib.axis.XTick at 0x787748f67ca0>,\n",
              "  <matplotlib.axis.XTick at 0x787748f67be0>,\n",
              "  <matplotlib.axis.XTick at 0x787748f67970>,\n",
              "  <matplotlib.axis.XTick at 0x787748be9b40>],\n",
              " [Text(1, 0, '1'), Text(2, 0, '2'), Text(3, 0, '3'), Text(4, 0, '4')])"
            ]
          },
          "metadata": {},
          "execution_count": 31
        },
        {
          "output_type": "display_data",
          "data": {
            "text/plain": [
              "<Figure size 1200x600 with 1 Axes>"
            ],
            "image/png": "[encoded data removed]"
          },
          "metadata": {
            "image/png": {
              "width": 1036,
              "height": 574
            }
          }
        }
      ],
      "source": [
        "import matplotlib.pyplot as plt\n",
        "%matplotlib inline\n",
        "\n",
        "import seaborn as sns\n",
        "\n",
        "sns.set(style='darkgrid')\n",
        "\n",
        "sns.set(font_scale=1.5)\n",
        "plt.rcParams[\"figure.figsize\"] = (12,6)\n",
        "\n",
        "\n",
        "plt.plot(df_stats['Training Loss'], 'b-o', label=\"Training\")\n",
        "plt.plot(df_stats['Valid. Loss'], 'g-o', label=\"Validation\")\n",
        "\n",
        "plt.title(\"Training & Validation Loss\")\n",
        "plt.xlabel(\"Epoch\")\n",
        "plt.ylabel(\"Loss\")\n",
        "plt.legend()\n",
        "plt.xticks([1, 2, 3, 4])\n",
        "\n",
        "plt.show()"
      ]
    },
    {
      "cell_type": "markdown",
      "source": [
        "### Тестирование модели на других данных"
      ],
      "metadata": {
        "id": "ckPvYk5vtqDU"
      }
    },
    {
      "cell_type": "code",
      "source": [
        "sequences_test, labels_test = preprocessing(df, n=50, reverse=False)\n",
        "seq_spase_test = add_spases(sequences_test)"
      ],
      "metadata": {
        "colab": {
          "base_uri": "https://localhost:8080/"
        },
        "id": "HQxIBShHD2BU",
        "outputId": "16751444-82b9-4c74-9664-02f7b4cdd387"
      },
      "execution_count": null,
      "outputs": [
        {
          "output_type": "stream",
          "name": "stdout",
          "text": [
            "Labels:\n",
            "nucleus 0\n",
            "cytosolic 1\n",
            "membrane 2\n",
            "mth 3\n"
          ]
        }
      ]
    },
    {
      "cell_type": "code",
      "source": [
        "input_ids = []\n",
        "attention_masks = []\n",
        "\n",
        "for seq in seq_spase_test:\n",
        "    encoded_dict = tokenizer.encode_plus(seq,\n",
        "                        add_special_tokens = True,\n",
        "                        max_length = 350,\n",
        "                        pad_to_max_length = True,\n",
        "                        return_attention_mask = True,\n",
        "                        return_tensors = 'pt')\n",
        "\n",
        "    # Add the encoded sentence to the list.\n",
        "    input_ids.append(encoded_dict['input_ids'])\n",
        "\n",
        "    # And its attention mask (simply differentiates padding from non-padding).\n",
        "    attention_masks.append(encoded_dict['attention_mask'])\n",
        "\n",
        "# Convert the lists into tensors.\n",
        "input_ids = torch.cat(input_ids, dim=0)\n",
        "attention_masks = torch.cat(attention_masks, dim=0)\n",
        "labels = torch.tensor(labels_test)\n",
        "\n",
        "# Set the batch size.\n",
        "batch_size = 8\n",
        "\n",
        "# Create the DataLoader.\n",
        "prediction_data = TensorDataset(input_ids, attention_masks, labels)\n",
        "prediction_sampler = SequentialSampler(prediction_data)\n",
        "prediction_dataloader = DataLoader(prediction_data, sampler=prediction_sampler, batch_size=batch_size)"
      ],
      "metadata": {
        "id": "jQP7ZHfjERsc"
      },
      "execution_count": null,
      "outputs": []
    },
    {
      "cell_type": "code",
      "source": [
        "# Put model in evaluation mode\n",
        "model.eval()\n",
        "\n",
        "# Tracking variables\n",
        "predictions , true_labels = [], []\n",
        "\n",
        "# Predict\n",
        "for batch in prediction_dataloader:\n",
        "  batch = tuple(t.to(device) for t in batch)\n",
        "\n",
        "  # Unpack the inputs from our dataloader\n",
        "  b_input_ids, b_input_mask, b_labels = batch\n",
        "\n",
        "  # Telling the model not to compute or store gradients, saving memory and speeding up prediction\n",
        "  with torch.no_grad():\n",
        "      # Forward pass, calculate logit predictions\n",
        "      outputs = model(b_input_ids, token_type_ids=None,\n",
        "                      attention_mask=b_input_mask)\n",
        "\n",
        "  logits = outputs[0]\n",
        "\n",
        "  # Move logits and labels to CPU\n",
        "  logits = logits.detach().cpu().numpy()\n",
        "  label_ids = b_labels.to('cpu').numpy()\n",
        "\n",
        "  # Store predictions and true labels\n",
        "  predictions.append(logits)\n",
        "  true_labels.append(label_ids)\n",
        "\n",
        "print('    DONE.')"
      ],
      "metadata": {
        "colab": {
          "base_uri": "https://localhost:8080/"
        },
        "id": "XxgAGYdTE8qs",
        "outputId": "a489a85c-e2fc-4907-ce5a-098e12a6310e"
      },
      "execution_count": null,
      "outputs": [
        {
          "output_type": "execute_result",
          "data": {
            "text/plain": [
              "BertForSequenceClassification(\n",
              "  (bert): BertModel(\n",
              "    (embeddings): BertEmbeddings(\n",
              "      (word_embeddings): Embedding(30, 1024, padding_idx=0)\n",
              "      (position_embeddings): Embedding(40000, 1024)\n",
              "      (token_type_embeddings): Embedding(2, 1024)\n",
              "      (LayerNorm): LayerNorm((1024,), eps=1e-12, elementwise_affine=True)\n",
              "      (dropout): Dropout(p=0.0, inplace=False)\n",
              "    )\n",
              "    (encoder): BertEncoder(\n",
              "      (layer): ModuleList(\n",
              "        (0-29): 30 x BertLayer(\n",
              "          (attention): BertAttention(\n",
              "            (self): BertSelfAttention(\n",
              "              (query): Linear(in_features=1024, out_features=1024, bias=True)\n",
              "              (key): Linear(in_features=1024, out_features=1024, bias=True)\n",
              "              (value): Linear(in_features=1024, out_features=1024, bias=True)\n",
              "              (dropout): Dropout(p=0.0, inplace=False)\n",
              "            )\n",
              "            (output): BertSelfOutput(\n",
              "              (dense): Linear(in_features=1024, out_features=1024, bias=True)\n",
              "              (LayerNorm): LayerNorm((1024,), eps=1e-12, elementwise_affine=True)\n",
              "              (dropout): Dropout(p=0.0, inplace=False)\n",
              "            )\n",
              "          )\n",
              "          (intermediate): BertIntermediate(\n",
              "            (dense): Linear(in_features=1024, out_features=4096, bias=True)\n",
              "            (intermediate_act_fn): GELUActivation()\n",
              "          )\n",
              "          (output): BertOutput(\n",
              "            (dense): Linear(in_features=4096, out_features=1024, bias=True)\n",
              "            (LayerNorm): LayerNorm((1024,), eps=1e-12, elementwise_affine=True)\n",
              "            (dropout): Dropout(p=0.0, inplace=False)\n",
              "          )\n",
              "        )\n",
              "      )\n",
              "    )\n",
              "    (pooler): BertPooler(\n",
              "      (dense): Linear(in_features=1024, out_features=1024, bias=True)\n",
              "      (activation): Tanh()\n",
              "    )\n",
              "  )\n",
              "  (dropout): Dropout(p=0.0, inplace=False)\n",
              "  (classifier): Linear(in_features=1024, out_features=4, bias=True)\n",
              ")"
            ]
          },
          "metadata": {},
          "execution_count": 36
        },
        {
          "output_type": "stream",
          "name": "stdout",
          "text": [
            "    DONE.\n"
          ]
        }
      ]
    },
    {
      "cell_type": "code",
      "source": [
        "from sklearn.metrics import f1_score\n",
        "res = []\n",
        "\n",
        "for i in range(len(true_labels)):\n",
        "  pred_labels_i = np.argmax(predictions[i], axis=1).flatten()\n",
        "\n",
        "  # Calculate and store the coef for this batch.\n",
        "  score = f1_score(true_labels[i], pred_labels_i, average='micro')\n",
        "  res.append(score)"
      ],
      "metadata": {
        "id": "9gfms84AFWPQ"
      },
      "execution_count": null,
      "outputs": []
    },
    {
      "cell_type": "code",
      "source": [
        "# Combine the results across all batches.\n",
        "flat_predictions = np.concatenate(predictions, axis=0)\n",
        "\n",
        "flat_predictions = np.argmax(flat_predictions, axis=1).flatten()\n",
        "flat_true_labels = np.concatenate(true_labels, axis=0)\n",
        "\n",
        "f_sc = f1_score(flat_true_labels, flat_predictions, average='micro')\n",
        "\n",
        "print('Total f1_score: %.3f' % f_sc)"
      ],
      "metadata": {
        "colab": {
          "base_uri": "https://localhost:8080/"
        },
        "id": "Vrlqtjr0IzjM",
        "outputId": "aa8cd1af-1df9-4685-b123-75d310269f54"
      },
      "execution_count": null,
      "outputs": [
        {
          "output_type": "stream",
          "name": "stdout",
          "text": [
            "Total f1_score: 0.800\n"
          ]
        }
      ]
    },
    {
      "cell_type": "markdown",
      "source": [
        "Ура! Кажется модель работает"
      ],
      "metadata": {
        "id": "s6q3J_ohvkX9"
      }
    },
    {
      "cell_type": "code",
      "source": [],
      "metadata": {
        "id": "wiyFQMcOJGuT"
      },
      "execution_count": null,
      "outputs": []
    },
    {
      "cell_type": "code",
      "source": [],
      "metadata": {
        "id": "CnU0MahsOaVK"
      },
      "execution_count": null,
      "outputs": []
    },
    {
      "cell_type": "code",
      "source": [],
      "metadata": {
        "id": "rp7Rz21F4BN_"
      },
      "execution_count": null,
      "outputs": []
    },
    {
      "cell_type": "code",
      "source": [],
      "metadata": {
        "id": "NRDCOZQG4BbP"
      },
      "execution_count": null,
      "outputs": []
    },
    {
      "cell_type": "code",
      "source": [],
      "metadata": {
        "id": "doXeAA2R4Bet"
      },
      "execution_count": null,
      "outputs": []
    },
    {
      "cell_type": "code",
      "source": [],
      "metadata": {
        "id": "5zvcL0kxOadC"
      },
      "execution_count": null,
      "outputs": []
    },
    {
      "cell_type": "markdown",
      "source": [
        "# А теперь проделаем все это для более большого набора данных"
      ],
      "metadata": {
        "id": "izAFJ9OXuz-2"
      }
    },
    {
      "cell_type": "code",
      "source": [
        "sequences_big, all_labels_big = preprocessing(df, n=3200)\n",
        "seq_spaces_big = add_spases(sequences_big)"
      ],
      "metadata": {
        "colab": {
          "base_uri": "https://localhost:8080/"
        },
        "id": "4QODpbvVT7gN",
        "outputId": "1668c556-7398-434f-8dca-d2ff12867b3d"
      },
      "execution_count": null,
      "outputs": [
        {
          "output_type": "stream",
          "name": "stdout",
          "text": [
            "Labels:\n",
            "nucleus 0\n",
            "cytosolic 1\n",
            "membrane 2\n",
            "mth 3\n"
          ]
        }
      ]
    },
    {
      "cell_type": "code",
      "source": [
        "statistics(sequences_big)\n",
        "stats2(all_labels_big)"
      ],
      "metadata": {
        "id": "W4VkByUvULwu",
        "colab": {
          "base_uri": "https://localhost:8080/",
          "height": 1000
        },
        "outputId": "b1a1b521-506a-48d2-a9f6-e21d9a15c9f9"
      },
      "execution_count": null,
      "outputs": [
        {
          "output_type": "stream",
          "name": "stderr",
          "text": [
            "<ipython-input-52-88c2e924b9ea>:6: UserWarning: \n",
            "\n",
            "`distplot` is a deprecated function and will be removed in seaborn v0.14.0.\n",
            "\n",
            "Please adapt your code to use either `displot` (a figure-level function with\n",
            "similar flexibility) or `histplot` (an axes-level function for histograms).\n",
            "\n",
            "For a guide to updating your code to use the new functions, please see\n",
            "https://gist.github.com/mwaskom/de44147ed2974457ad6372750bbe5751\n",
            "\n",
            "  ax = sns.distplot([len(i) for i in sequences]).set(title = 'Distribution of sequences lengh')\n"
          ]
        },
        {
          "output_type": "display_data",
          "data": {
            "text/plain": [
              "<Figure size 640x480 with 1 Axes>"
            ],
            "image/png": "[encoded data removed]"
          },
          "metadata": {
            "image/png": {
              "width": 618,
              "height": 445
            }
          }
        },
        {
          "output_type": "display_data",
          "data": {
            "text/plain": [
              "<Figure size 640x480 with 1 Axes>"
            ],
            "image/png": "[encoded data removed]"
          },
          "metadata": {
            "image/png": {
              "width": 575,
              "height": 445
            }
          }
        }
      ]
    },
    {
      "cell_type": "code",
      "source": [
        "input_ids_b, attention_masks_b, labels_b = tokenize_all(seq_spaces_big, all_labels_big)\n",
        "\n",
        "print('Original: ', seq_spaces_big[0])\n",
        "print('Token IDs:', input_ids_b[0])"
      ],
      "metadata": {
        "colab": {
          "base_uri": "https://localhost:8080/"
        },
        "id": "ZJuiyBgQFWPo",
        "outputId": "2b9a260a-2308-4eea-cb35-8f5245fa5883"
      },
      "execution_count": null,
      "outputs": [
        {
          "output_type": "stream",
          "name": "stderr",
          "text": [
            "/usr/local/lib/python3.10/dist-packages/transformers/tokenization_utils_base.py:2418: FutureWarning: The `pad_to_max_length` argument is deprecated and will be removed in a future version, use `padding=True` or `padding='longest'` to pad to the longest sequence in the batch, or use `padding='max_length'` to pad to a max length. In this case, you can give a specific length with `max_length` (e.g. `max_length=45`) or leave max_length to None to pad to the maximal input size of the model (e.g. 512 for Bert).\n",
            "  warnings.warn(\n"
          ]
        },
        {
          "output_type": "stream",
          "name": "stdout",
          "text": [
            "Original:  M E P E A P D S R K R P L E T P P E V V C T K R S N T G E E G E Y F L K V L I P S Y A A G S I I G K G G Q T I V Q L Q K E T G A T I K L S K S K D F Y P G T T E R V C L V Q G T A E A L N A V H S F I A E K V R E I P Q A M T K P E V V N I L Q P Q T T M N P D R A K Q A K L I V P N S T A G L I I G K G G A T V K A V M E Q S G A W V Q L S Q K P E G I N L Q E R V V T V S G E P E Q V H K A V S A I V Q K V Q E D P Q S S S C L N I S Y A N V A G P V A N S N P T G S P Y A S P A D V L P A A A A A S A A A A S G L L G P A G L A G V G A F P A A L P A F S G T D L L A I S T A L N T L A S Y G Y N T N S L S L G L N S A A A S G V L A A V A A G A N P A A A A A A N L L A S Y A G D A G A G P G A G A A P P P P P P P G A L G S F A L A A A A N G Y L G A G A G G A A G A G G A P L V A A A A A A G A A G G F L T A E K L A A E S A K E L V E I A V P E N L V G A I L G K G G K T L V E Y Q E L T G A R I Q I S K K G E F L P G T R N R R V T I T G S P A A T Q A A Q Y L I S Q R V T Y E Q G V R A S N P Q K V G \n",
            "Token IDs: tensor([ 2, 21,  9, 16,  9,  6, 16, 14, 10, 13, 12, 13, 16,  5,  9, 15, 16, 16,\n",
            "         9,  8,  8, 23, 15, 12, 13, 10, 17, 15,  7,  9,  9,  7,  9, 20, 19,  5,\n",
            "        12,  8,  5, 11, 16, 10, 20,  6,  6,  7, 10, 11, 11,  7, 12,  7,  7, 18,\n",
            "        15, 11,  8, 18,  5, 18, 12,  9, 15,  7,  6, 15, 11, 12,  5, 10, 12, 10,\n",
            "        12, 14, 19, 20, 16,  7, 15, 15,  9, 13,  8, 23,  5,  8, 18,  7, 15,  6,\n",
            "         9,  6,  5, 17,  6,  8, 22, 10, 19, 11,  6,  9, 12,  8, 13,  9, 11, 16,\n",
            "        18,  6, 21, 15, 12, 16,  9,  8,  8, 17, 11,  5, 18, 16, 18, 15, 15, 21,\n",
            "        17, 16, 14, 13,  6, 12, 18,  6, 12,  5, 11,  8, 16, 17, 10, 15,  6,  7,\n",
            "         5, 11, 11,  7, 12,  7,  7,  6, 15,  8, 12,  6,  8, 21,  9, 18, 10,  7,\n",
            "         6, 24,  8, 18,  5, 10, 18, 12, 16,  9,  7, 11, 17,  5, 18,  9, 13,  8,\n",
            "         8, 15,  8, 10,  7,  9, 16,  9, 18,  8, 22, 12,  6,  8, 10,  6, 11,  8,\n",
            "        18, 12,  8, 18,  9, 14, 16, 18, 10, 10, 10, 23,  5, 17, 11, 10, 20,  6,\n",
            "        17,  8,  6,  7, 16,  8,  6, 17, 10, 17, 16, 15,  7, 10, 16, 20,  6, 10,\n",
            "        16,  6, 14,  8,  5, 16,  6,  6,  6,  6,  6, 10,  6,  6,  6,  6, 10,  7,\n",
            "         5,  5,  7, 16,  6,  7,  5,  6,  7,  8,  7,  6, 19, 16,  6,  6,  5, 16,\n",
            "         6, 19, 10,  7, 15, 14,  5,  5,  6, 11, 10, 15,  6,  5, 17, 15,  5,  6,\n",
            "        10, 20,  7, 20, 17, 15, 17, 10,  5, 10,  5,  7,  5, 17, 10,  6,  6,  6,\n",
            "        10,  7,  8,  5,  6,  6,  8,  6,  6,  7,  6, 17, 16,  6,  6,  6,  6,  6,\n",
            "         6, 17,  5,  5,  6, 10, 20,  6,  7, 14,  6,  7,  6,  7, 16,  7,  6,  7,\n",
            "         6,  6, 16, 16, 16, 16, 16,  3])\n"
          ]
        }
      ]
    },
    {
      "cell_type": "code",
      "source": [
        "train_dataset_b, val_dataset_b, test_dataset_b = split_data(input_ids_b, attention_masks_b, labels_b)"
      ],
      "metadata": {
        "colab": {
          "base_uri": "https://localhost:8080/"
        },
        "id": "UQR3Ov4WNDHf",
        "outputId": "c4a8510d-d21c-4325-ef9c-7089f9471e63"
      },
      "execution_count": null,
      "outputs": [
        {
          "output_type": "stream",
          "name": "stdout",
          "text": [
            "8,960 training samples\n",
            "2,560 validation samples\n",
            "1,280 test samples\n"
          ]
        }
      ]
    },
    {
      "cell_type": "code",
      "source": [
        "from torch.utils.data import DataLoader, RandomSampler, SequentialSampler\n",
        "\n",
        "batch_size = 8\n",
        "\n",
        "train_dataloader_b = DataLoader(\n",
        "            train_dataset_b,\n",
        "            sampler = RandomSampler(train_dataset_b),\n",
        "            batch_size = batch_size)\n",
        "\n",
        "validation_dataloader_b = DataLoader(\n",
        "            val_dataset_b,\n",
        "            sampler = SequentialSampler(val_dataset_b),\n",
        "            batch_size = batch_size)"
      ],
      "metadata": {
        "id": "zynsFXq-CAus"
      },
      "execution_count": null,
      "outputs": []
    },
    {
      "cell_type": "code",
      "source": [
        "from transformers import BertForSequenceClassification, AdamW, BertConfig\n",
        "\n",
        "model = BertForSequenceClassification.from_pretrained(\"Rostlab/prot_bert\",\n",
        "    num_labels = 4,\n",
        "    output_attentions = False,\n",
        "    output_hidden_states = False)\n",
        "\n",
        "# Tell pytorch to run this model on the GPU.\n",
        "model.cuda()\n",
        "\n",
        "optimizer = AdamW(model.parameters(),\n",
        "                  lr = 3e-5,\n",
        "                  eps = 1e-8)"
      ],
      "metadata": {
        "colab": {
          "base_uri": "https://localhost:8080/"
        },
        "id": "9QElnYsmFArO",
        "outputId": "e90e5470-5251-4ff3-e15a-9680e93025b5"
      },
      "execution_count": null,
      "outputs": [
        {
          "output_type": "stream",
          "name": "stderr",
          "text": [
            "Some weights of BertForSequenceClassification were not initialized from the model checkpoint at Rostlab/prot_bert and are newly initialized: ['classifier.weight', 'classifier.bias']\n",
            "You should probably TRAIN this model on a down-stream task to be able to use it for predictions and inference.\n"
          ]
        },
        {
          "output_type": "execute_result",
          "data": {
            "text/plain": [
              "BertForSequenceClassification(\n",
              "  (bert): BertModel(\n",
              "    (embeddings): BertEmbeddings(\n",
              "      (word_embeddings): Embedding(30, 1024, padding_idx=0)\n",
              "      (position_embeddings): Embedding(40000, 1024)\n",
              "      (token_type_embeddings): Embedding(2, 1024)\n",
              "      (LayerNorm): LayerNorm((1024,), eps=1e-12, elementwise_affine=True)\n",
              "      (dropout): Dropout(p=0.0, inplace=False)\n",
              "    )\n",
              "    (encoder): BertEncoder(\n",
              "      (layer): ModuleList(\n",
              "        (0-29): 30 x BertLayer(\n",
              "          (attention): BertAttention(\n",
              "            (self): BertSelfAttention(\n",
              "              (query): Linear(in_features=1024, out_features=1024, bias=True)\n",
              "              (key): Linear(in_features=1024, out_features=1024, bias=True)\n",
              "              (value): Linear(in_features=1024, out_features=1024, bias=True)\n",
              "              (dropout): Dropout(p=0.0, inplace=False)\n",
              "            )\n",
              "            (output): BertSelfOutput(\n",
              "              (dense): Linear(in_features=1024, out_features=1024, bias=True)\n",
              "              (LayerNorm): LayerNorm((1024,), eps=1e-12, elementwise_affine=True)\n",
              "              (dropout): Dropout(p=0.0, inplace=False)\n",
              "            )\n",
              "          )\n",
              "          (intermediate): BertIntermediate(\n",
              "            (dense): Linear(in_features=1024, out_features=4096, bias=True)\n",
              "            (intermediate_act_fn): GELUActivation()\n",
              "          )\n",
              "          (output): BertOutput(\n",
              "            (dense): Linear(in_features=4096, out_features=1024, bias=True)\n",
              "            (LayerNorm): LayerNorm((1024,), eps=1e-12, elementwise_affine=True)\n",
              "            (dropout): Dropout(p=0.0, inplace=False)\n",
              "          )\n",
              "        )\n",
              "      )\n",
              "    )\n",
              "    (pooler): BertPooler(\n",
              "      (dense): Linear(in_features=1024, out_features=1024, bias=True)\n",
              "      (activation): Tanh()\n",
              "    )\n",
              "  )\n",
              "  (dropout): Dropout(p=0.0, inplace=False)\n",
              "  (classifier): Linear(in_features=1024, out_features=4, bias=True)\n",
              ")"
            ]
          },
          "metadata": {},
          "execution_count": 76
        },
        {
          "output_type": "stream",
          "name": "stderr",
          "text": [
            "/usr/local/lib/python3.10/dist-packages/transformers/optimization.py:411: FutureWarning: This implementation of AdamW is deprecated and will be removed in a future version. Use the PyTorch implementation torch.optim.AdamW instead, or set `no_deprecation_warning=True` to disable this warning\n",
            "  warnings.warn(\n"
          ]
        }
      ]
    },
    {
      "cell_type": "code",
      "source": [
        "from transformers import get_linear_schedule_with_warmup\n",
        "\n",
        "epochs = 4\n",
        "\n",
        "total_steps = len(train_dataloader_b) * epochs\n",
        "\n",
        "# Create the learning rate scheduler.\n",
        "scheduler = get_linear_schedule_with_warmup(optimizer,\n",
        "                                            num_warmup_steps = 0,\n",
        "                                            num_training_steps = total_steps)"
      ],
      "metadata": {
        "id": "rJ5wSqX-FTVy"
      },
      "execution_count": null,
      "outputs": []
    },
    {
      "cell_type": "code",
      "source": [
        "# @title Текст заголовка по умолчанию\n",
        "# Set the seed value all over the place to make this reproducible.\n",
        "seed_val = 42\n",
        "\n",
        "random.seed(seed_val)\n",
        "np.random.seed(seed_val)\n",
        "torch.manual_seed(seed_val)\n",
        "torch.cuda.manual_seed_all(seed_val)\n",
        "\n",
        "training_stats = []\n",
        "\n",
        "# Measure the total training time for the whole run.\n",
        "total_t0 = time.time()\n",
        "\n",
        "for epoch_i in range(0, epochs):\n",
        "\n",
        "    print(\"\")\n",
        "    print('======== Epoch {:} / {:} ========'.format(epoch_i + 1, epochs))\n",
        "    print('Training...')\n",
        "\n",
        "    t0 = time.time()\n",
        "\n",
        "    # Reset the total loss for this epoch.\n",
        "    total_train_loss = 0\n",
        "\n",
        "    model.train()\n",
        "\n",
        "    for step, batch in enumerate(train_dataloader_b):\n",
        "      #update progress in every 500 steps\n",
        "        if step % 500 == 0 and not step == 0:\n",
        "            # Calculate elapsed time in minutes.\n",
        "            elapsed = format_time(time.time() - t0)\n",
        "\n",
        "            # Report progress.\n",
        "            #print('  Batch {:>5,}  of  {:>5,}.    Elapsed: {:}.'.format(step, len(train_dataloader_b), elapsed))\n",
        "\n",
        "        b_input_ids = batch[0].to(device)\n",
        "        b_input_mask = batch[1].to(device)\n",
        "        b_labels = batch[2].to(device)\n",
        "\n",
        "        model.zero_grad()\n",
        "\n",
        "        res = model(b_input_ids,\n",
        "                             token_type_ids=None,\n",
        "                             attention_mask=b_input_mask,\n",
        "                             labels=b_labels)\n",
        "        loss = res['loss']\n",
        "        logits = res['logits']\n",
        "\n",
        "        total_train_loss += loss.item()\n",
        "\n",
        "        loss.backward()\n",
        "\n",
        "        torch.nn.utils.clip_grad_norm_(model.parameters(), 1.0)\n",
        "\n",
        "        optimizer.step()\n",
        "\n",
        "        # Update the learning rate.\n",
        "        scheduler.step()\n",
        "\n",
        "    # Calculate the average loss over all of the batches.\n",
        "    avg_train_loss = total_train_loss / len(train_dataloader_b)\n",
        "\n",
        "    # Measure how long this epoch took.\n",
        "    training_time = format_time(time.time() - t0)\n",
        "\n",
        "    print(\"\")\n",
        "    print(\"  Average training loss: {0:.2f}\".format(avg_train_loss))\n",
        "    print(\"  Training epcoh took: {:}\".format(training_time))\n",
        "\n",
        "\n",
        "\n",
        "\n",
        "    #Validation\n",
        "    print(\"\")\n",
        "    print(\"Running Validation...\")\n",
        "\n",
        "    t0 = time.time()\n",
        "\n",
        "\n",
        "    model.eval()\n",
        "\n",
        "    # Tracking variables\n",
        "    total_eval_accuracy = 0\n",
        "    total_eval_loss = 0\n",
        "    nb_eval_steps = 0\n",
        "\n",
        "    for batch in validation_dataloader_b:\n",
        "\n",
        "        b_input_ids = batch[0].to(device)\n",
        "        b_input_mask = batch[1].to(device)\n",
        "        b_labels = batch[2].to(device)\n",
        "\n",
        "        with torch.no_grad():\n",
        "            res = model(b_input_ids, token_type_ids=None,\n",
        "                                   attention_mask=b_input_mask,\n",
        "                                   labels=b_labels)\n",
        "        loss = res['loss']\n",
        "        logits = res['logits']\n",
        "\n",
        "        # Accumulate the validation loss.\n",
        "        total_eval_loss += loss.item()\n",
        "\n",
        "        # Move logits and labels to CPU\n",
        "        logits = logits.detach().cpu().numpy()\n",
        "        label_ids = b_labels.to('cpu').numpy()\n",
        "\n",
        "        # Calculate the accuracy for this batch of test sentences, and accumulate it over all batches.\n",
        "        total_eval_accuracy += flat_accuracy(logits, label_ids)\n",
        "\n",
        "    # Report the final accuracy for this validation run.\n",
        "    avg_val_accuracy = total_eval_accuracy / len(validation_dataloader_b)\n",
        "    print(\"  Accuracy: {0:.2f}\".format(avg_val_accuracy))\n",
        "\n",
        "    # Calculate the average loss over all of the batches.\n",
        "    avg_val_loss = total_eval_loss / len(validation_dataloader_b)\n",
        "\n",
        "    # Measure how long the validation run took.\n",
        "    validation_time = format_time(time.time() - t0)\n",
        "\n",
        "    print(\"  Validation Loss: {0:.2f}\".format(avg_val_loss))\n",
        "    print(\"  Validation took: {:}\".format(validation_time))\n",
        "\n",
        "    # Record all statistics from this epoch.\n",
        "    training_stats.append(\n",
        "        {\n",
        "            'epoch': epoch_i + 1,\n",
        "            'Training Loss': avg_train_loss,\n",
        "            'Valid. Loss': avg_val_loss,\n",
        "            'Valid. Accur.': avg_val_accuracy,\n",
        "            'Training Time': training_time,\n",
        "            'Validation Time': validation_time\n",
        "        }\n",
        "    )\n",
        "\n",
        "print(\"\")\n",
        "print(\"Training complete!\")\n",
        "\n",
        "print(\"Total training took {:} (h:mm:ss)\".format(format_time(time.time()-total_t0)))"
      ],
      "metadata": {
        "id": "Ja3-7L7BFqaU",
        "cellView": "code"
      },
      "execution_count": null,
      "outputs": []
    },
    {
      "cell_type": "markdown",
      "source": [
        "======== Epoch 1 / 4 ========\n",
        "  \n",
        "__Training...__\\\n",
        "Average training loss: 0.46 \\\n",
        "Training epcoh time: 0:36:07\n",
        "\n",
        "__Validation...__\\\n",
        "*Accuracy: 0.90*\\\n",
        "  Validation Loss: 0.41\\\n",
        "  Validation took: 0:03:22\n",
        "\n",
        "======== Epoch 2 / 4 ========\n",
        "  \n",
        "__Training...__\\\n",
        "Average training loss: 0.24 \\\n",
        "Training epcoh time: 0:36:08\n",
        "\n",
        "__Validation...__\\\n",
        "*Accuracy: 0.96*\\\n",
        "  Validation Loss: 0.19\\\n",
        "  Validation took: 0:03:23\n",
        "\n",
        "======== Epoch 3 / 4 ========\n",
        "  \n",
        "__Training...__\\\n",
        "Average training loss: 0.13 \\\n",
        "Training epcoh time: 0:36:07\n",
        "\n",
        "__Validation...__\\\n",
        "*Accuracy: 0.96*\\\n",
        "  Validation Loss: 0.17\\\n",
        "  Validation took: 0:03:23\n",
        "\n",
        "\n",
        "======== Epoch 4 / 4 ========\n",
        "  \n",
        "__Training...__\\\n",
        "Average training loss: 0.06 \\\n",
        "Training epcoh time: 0:36:06\n",
        "\n",
        "__Validation...__\\\n",
        "*Accuracy: 0.97*\\\n",
        "  Validation Loss: 0.14\\\n",
        "  Validation took: 0:03:23"
      ],
      "metadata": {
        "id": "SIMAgecHwfMa"
      }
    },
    {
      "cell_type": "code",
      "source": [
        "#если снова нереобучу модель можно будет посмотреть статистику\n",
        "# df_stats = pd.DataFrame(data=training_stats)\n",
        "# df_stats = df_stats.set_index('epoch')\n",
        "\n",
        "# df_stats"
      ],
      "metadata": {
        "id": "y2cX6RwUlvPs"
      },
      "execution_count": null,
      "outputs": []
    },
    {
      "cell_type": "code",
      "source": [
        "# import matplotlib.pyplot as plt\n",
        "# %matplotlib inline\n",
        "\n",
        "# import seaborn as sns\n",
        "\n",
        "# sns.set(style='darkgrid')\n",
        "\n",
        "# sns.set(font_scale=1.5)\n",
        "# plt.rcParams[\"figure.figsize\"] = (12,6)\n",
        "\n",
        "\n",
        "# plt.plot(df_stats['Training Loss'], 'b-o', label=\"Training\")\n",
        "# plt.plot(df_stats['Valid. Loss'], 'g-o', label=\"Validation\")\n",
        "\n",
        "# plt.title(\"Training & Validation Loss\")\n",
        "# plt.xlabel(\"Epoch\")\n",
        "# plt.ylabel(\"Loss\")\n",
        "# plt.legend()\n",
        "# plt.xticks([1, 2, 3, 4])\n",
        "\n",
        "# plt.show()"
      ],
      "metadata": {
        "id": "t70o9zTgltbx"
      },
      "execution_count": null,
      "outputs": []
    },
    {
      "cell_type": "markdown",
      "source": [
        "Сохранение дообученной модели на диск"
      ],
      "metadata": {
        "id": "vIejtC7hyvmu"
      }
    },
    {
      "cell_type": "code",
      "source": [
        "import os\n",
        "output_dir = './model_save/'\n",
        "\n",
        "# Create output directory\n",
        "if not os.path.exists(output_dir):\n",
        "    os.makedirs(output_dir)\n",
        "\n",
        "print(\"Saving model to %s\" % output_dir)\n",
        "\n",
        "model_to_save = model.module if hasattr(model, 'module') else model\n",
        "model_to_save.save_pretrained(output_dir)\n",
        "tokenizer.save_pretrained(output_dir)"
      ],
      "metadata": {
        "colab": {
          "base_uri": "https://localhost:8080/"
        },
        "id": "ugmrM9pu5orM",
        "outputId": "e46ec3de-f44a-4b0c-f28f-79a01d2cc043"
      },
      "execution_count": null,
      "outputs": [
        {
          "output_type": "stream",
          "name": "stdout",
          "text": [
            "Saving model to ./model_save/\n"
          ]
        },
        {
          "output_type": "execute_result",
          "data": {
            "text/plain": [
              "('./model_save/tokenizer_config.json',\n",
              " './model_save/special_tokens_map.json',\n",
              " './model_save/vocab.txt',\n",
              " './model_save/added_tokens.json')"
            ]
          },
          "metadata": {},
          "execution_count": 29
        }
      ]
    },
    {
      "cell_type": "code",
      "source": [
        "from google.colab import drive\n",
        "drive.mount('/content/drive')"
      ],
      "metadata": {
        "colab": {
          "base_uri": "https://localhost:8080/"
        },
        "id": "lTbrd9iEeOZD",
        "outputId": "c737d734-a452-4c1d-bc58-8e5cb3be301a"
      },
      "execution_count": null,
      "outputs": [
        {
          "output_type": "stream",
          "name": "stdout",
          "text": [
            "Mounted at /content/drive\n"
          ]
        }
      ]
    },
    {
      "cell_type": "code",
      "source": [
        "# Сохранение на Google Drive.\n",
        "!cp -r ./model_save/ \"./drive/MyDrive/Prot_bert_clf/\""
      ],
      "metadata": {
        "id": "wB3SBMVZevJh"
      },
      "execution_count": null,
      "outputs": []
    },
    {
      "cell_type": "markdown",
      "source": [
        "# Работа с дообученной моделью, проверка качества"
      ],
      "metadata": {
        "id": "nKMWmJJ_y_q2"
      }
    },
    {
      "cell_type": "code",
      "source": [
        "# Загрузим fine tuned модель с гугл диска\n",
        "model = BertForSequenceClassification.from_pretrained(\"/content/drive/MyDrive/Prot_bert_clf/\")"
      ],
      "metadata": {
        "id": "wFnMR2TafDlw"
      },
      "execution_count": null,
      "outputs": []
    },
    {
      "cell_type": "code",
      "source": [
        "model.to(device)"
      ],
      "metadata": {
        "colab": {
          "base_uri": "https://localhost:8080/"
        },
        "id": "jIuEngKzlIJ9",
        "outputId": "c570e68b-e133-447f-89b1-ce2914a95be9"
      },
      "execution_count": null,
      "outputs": [
        {
          "output_type": "execute_result",
          "data": {
            "text/plain": [
              "BertForSequenceClassification(\n",
              "  (bert): BertModel(\n",
              "    (embeddings): BertEmbeddings(\n",
              "      (word_embeddings): Embedding(30, 1024, padding_idx=0)\n",
              "      (position_embeddings): Embedding(40000, 1024)\n",
              "      (token_type_embeddings): Embedding(2, 1024)\n",
              "      (LayerNorm): LayerNorm((1024,), eps=1e-12, elementwise_affine=True)\n",
              "      (dropout): Dropout(p=0.0, inplace=False)\n",
              "    )\n",
              "    (encoder): BertEncoder(\n",
              "      (layer): ModuleList(\n",
              "        (0-29): 30 x BertLayer(\n",
              "          (attention): BertAttention(\n",
              "            (self): BertSelfAttention(\n",
              "              (query): Linear(in_features=1024, out_features=1024, bias=True)\n",
              "              (key): Linear(in_features=1024, out_features=1024, bias=True)\n",
              "              (value): Linear(in_features=1024, out_features=1024, bias=True)\n",
              "              (dropout): Dropout(p=0.0, inplace=False)\n",
              "            )\n",
              "            (output): BertSelfOutput(\n",
              "              (dense): Linear(in_features=1024, out_features=1024, bias=True)\n",
              "              (LayerNorm): LayerNorm((1024,), eps=1e-12, elementwise_affine=True)\n",
              "              (dropout): Dropout(p=0.0, inplace=False)\n",
              "            )\n",
              "          )\n",
              "          (intermediate): BertIntermediate(\n",
              "            (dense): Linear(in_features=1024, out_features=4096, bias=True)\n",
              "            (intermediate_act_fn): GELUActivation()\n",
              "          )\n",
              "          (output): BertOutput(\n",
              "            (dense): Linear(in_features=4096, out_features=1024, bias=True)\n",
              "            (LayerNorm): LayerNorm((1024,), eps=1e-12, elementwise_affine=True)\n",
              "            (dropout): Dropout(p=0.0, inplace=False)\n",
              "          )\n",
              "        )\n",
              "      )\n",
              "    )\n",
              "    (pooler): BertPooler(\n",
              "      (dense): Linear(in_features=1024, out_features=1024, bias=True)\n",
              "      (activation): Tanh()\n",
              "    )\n",
              "  )\n",
              "  (dropout): Dropout(p=0.0, inplace=False)\n",
              "  (classifier): Linear(in_features=1024, out_features=4, bias=True)\n",
              ")"
            ]
          },
          "metadata": {},
          "execution_count": 79
        }
      ]
    },
    {
      "cell_type": "markdown",
      "source": [
        "Тестирование модели на раннее созданном тестовом наборе"
      ],
      "metadata": {
        "id": "WkFCgMxQzXK_"
      }
    },
    {
      "cell_type": "code",
      "source": [
        "batch_size = 8\n",
        "\n",
        "# Create the DataLoader.\n",
        "prediction_sampler = SequentialSampler(test_dataset_b)\n",
        "prediction_dataloader = DataLoader(test_dataset_b, sampler=prediction_sampler, batch_size=batch_size)"
      ],
      "metadata": {
        "id": "4wZo4j8ajdRf"
      },
      "execution_count": null,
      "outputs": []
    },
    {
      "cell_type": "code",
      "source": [
        "# Put model in evaluation mode\n",
        "model.eval()\n",
        "\n",
        "# Tracking variables\n",
        "predictions , true_labels = [], []\n",
        "\n",
        "# Predict\n",
        "for batch in prediction_dataloader:\n",
        "  # Add batch to GPU\n",
        "  batch = tuple(t.to(device) for t in batch)\n",
        "\n",
        "  # Unpack the inputs from our dataloader\n",
        "  b_input_ids, b_input_mask, b_labels = batch\n",
        "\n",
        "  # Telling the model not to compute or store gradients, saving memory and speeding up prediction\n",
        "  with torch.no_grad():\n",
        "      # Forward pass, calculate logit predictions\n",
        "      outputs = model(b_input_ids, token_type_ids=None,\n",
        "                      attention_mask=b_input_mask)\n",
        "\n",
        "  logits = outputs[0]\n",
        "\n",
        "  # Move logits and labels to CPU\n",
        "  logits = logits.detach().cpu().numpy()\n",
        "  label_ids = b_labels.to('cpu').numpy()\n",
        "\n",
        "  # Store predictions and true labels\n",
        "  predictions.append(logits)\n",
        "  true_labels.append(label_ids)\n",
        "\n",
        "print('    DONE.')"
      ],
      "metadata": {
        "colab": {
          "base_uri": "https://localhost:8080/"
        },
        "id": "aMJZKsOPkKPG",
        "outputId": "47cc4955-4692-4175-83f6-ef0f90c1b775"
      },
      "execution_count": null,
      "outputs": [
        {
          "output_type": "execute_result",
          "data": {
            "text/plain": [
              "BertForSequenceClassification(\n",
              "  (bert): BertModel(\n",
              "    (embeddings): BertEmbeddings(\n",
              "      (word_embeddings): Embedding(30, 1024, padding_idx=0)\n",
              "      (position_embeddings): Embedding(40000, 1024)\n",
              "      (token_type_embeddings): Embedding(2, 1024)\n",
              "      (LayerNorm): LayerNorm((1024,), eps=1e-12, elementwise_affine=True)\n",
              "      (dropout): Dropout(p=0.0, inplace=False)\n",
              "    )\n",
              "    (encoder): BertEncoder(\n",
              "      (layer): ModuleList(\n",
              "        (0-29): 30 x BertLayer(\n",
              "          (attention): BertAttention(\n",
              "            (self): BertSelfAttention(\n",
              "              (query): Linear(in_features=1024, out_features=1024, bias=True)\n",
              "              (key): Linear(in_features=1024, out_features=1024, bias=True)\n",
              "              (value): Linear(in_features=1024, out_features=1024, bias=True)\n",
              "              (dropout): Dropout(p=0.0, inplace=False)\n",
              "            )\n",
              "            (output): BertSelfOutput(\n",
              "              (dense): Linear(in_features=1024, out_features=1024, bias=True)\n",
              "              (LayerNorm): LayerNorm((1024,), eps=1e-12, elementwise_affine=True)\n",
              "              (dropout): Dropout(p=0.0, inplace=False)\n",
              "            )\n",
              "          )\n",
              "          (intermediate): BertIntermediate(\n",
              "            (dense): Linear(in_features=1024, out_features=4096, bias=True)\n",
              "            (intermediate_act_fn): GELUActivation()\n",
              "          )\n",
              "          (output): BertOutput(\n",
              "            (dense): Linear(in_features=4096, out_features=1024, bias=True)\n",
              "            (LayerNorm): LayerNorm((1024,), eps=1e-12, elementwise_affine=True)\n",
              "            (dropout): Dropout(p=0.0, inplace=False)\n",
              "          )\n",
              "        )\n",
              "      )\n",
              "    )\n",
              "    (pooler): BertPooler(\n",
              "      (dense): Linear(in_features=1024, out_features=1024, bias=True)\n",
              "      (activation): Tanh()\n",
              "    )\n",
              "  )\n",
              "  (dropout): Dropout(p=0.0, inplace=False)\n",
              "  (classifier): Linear(in_features=1024, out_features=4, bias=True)\n",
              ")"
            ]
          },
          "metadata": {},
          "execution_count": 42
        },
        {
          "output_type": "stream",
          "name": "stdout",
          "text": [
            "    DONE.\n"
          ]
        }
      ]
    },
    {
      "cell_type": "markdown",
      "source": [
        "Оценка модели с помощью F1-score"
      ],
      "metadata": {
        "id": "UdY1kN77zlpS"
      }
    },
    {
      "cell_type": "code",
      "source": [
        "from sklearn.metrics import f1_score\n",
        "res = []\n",
        "\n",
        "for i in range(len(true_labels)):\n",
        "\n",
        "  pred_labels_i = np.argmax(predictions[i], axis=1).flatten()\n",
        "\n",
        "  # Calculate and store the coef for this batch.\n",
        "  score = f1_score(true_labels[i], pred_labels_i, average='micro')\n",
        "  res.append(score)"
      ],
      "metadata": {
        "id": "h2lKX_NzlCRW"
      },
      "execution_count": null,
      "outputs": []
    },
    {
      "cell_type": "code",
      "source": [
        "# Combine the results across all batches.\n",
        "flat_predictions = np.concatenate(predictions, axis=0)\n",
        "\n",
        "flat_predictions = np.argmax(flat_predictions, axis=1).flatten()\n",
        "\n",
        "# Combine the correct labels for each batch into a single list.\n",
        "flat_true_labels = np.concatenate(true_labels, axis=0)\n",
        "\n",
        "# Calculate the score\n",
        "f_sc = f1_score(flat_true_labels, flat_predictions, average='micro')\n",
        "\n",
        "print('Total f1_score: %.4f' % f_sc)"
      ],
      "metadata": {
        "colab": {
          "base_uri": "https://localhost:8080/"
        },
        "id": "nU19o42NlWRZ",
        "outputId": "2339d035-c28d-4520-e0b0-b9398f1d967f"
      },
      "execution_count": null,
      "outputs": [
        {
          "output_type": "stream",
          "name": "stdout",
          "text": [
            "Total f1_score: 0.9844\n"
          ]
        }
      ]
    },
    {
      "cell_type": "code",
      "source": [],
      "metadata": {
        "id": "DfVS8Z2oljeh"
      },
      "execution_count": null,
      "outputs": []
    },
    {
      "cell_type": "markdown",
      "source": [
        "Вау! После дообучения на больших данных точность модели значительно выросла. Ее можно использовать для определения субклеточной локализации белка"
      ],
      "metadata": {
        "id": "jkrG26zIz2y0"
      }
    }
  ],
  "metadata": {
    "accelerator": "GPU",
    "colab": {
      "provenance": [],
      "authorship_tag": "ABX9TyPhHE2ma20mRj2Ht3zmnfou",
      "include_colab_link": true
    },
    "kernelspec": {
      "display_name": "Python 3",
      "name": "python3"
    },
    "language_info": {
      "name": "python"
    },
    "widgets": {
      "application/vnd.jupyter.widget-state+json": {
        "4f0cc868b98945699586af21a5895547": {
          "model_module": "@jupyter-widgets/controls",
          "model_name": "HBoxModel",
          "model_module_version": "1.5.0",
          "state": {
            "_dom_classes": [],
            "_model_module": "@jupyter-widgets/controls",
            "_model_module_version": "1.5.0",
            "_model_name": "HBoxModel",
            "_view_count": null,
            "_view_module": "@jupyter-widgets/controls",
            "_view_module_version": "1.5.0",
            "_view_name": "HBoxView",
            "box_style": "",
            "children": [
              "IPY_MODEL_ae27a53604d4425ebe9a8f80faf05db2",
              "IPY_MODEL_2c3a621fb2e94655858a6a5f9ae938aa",
              "IPY_MODEL_99623b6ae47c4ffa9312e19acc82d58b"
            ],
            "layout": "IPY_MODEL_e79d5495f42e40db8a769772f2d20ef2"
          }
        },
        "ae27a53604d4425ebe9a8f80faf05db2": {
          "model_module": "@jupyter-widgets/controls",
          "model_name": "HTMLModel",
          "model_module_version": "1.5.0",
          "state": {
            "_dom_classes": [],
            "_model_module": "@jupyter-widgets/controls",
            "_model_module_version": "1.5.0",
            "_model_name": "HTMLModel",
            "_view_count": null,
            "_view_module": "@jupyter-widgets/controls",
            "_view_module_version": "1.5.0",
            "_view_name": "HTMLView",
            "description": "",
            "description_tooltip": null,
            "layout": "IPY_MODEL_1da9cf9d9073433ea74a4309a14df135",
            "placeholder": "​",
            "style": "IPY_MODEL_c26a9ae24d7642779af2ea4828de1b83",
            "value": "Downloading (…)solve/main/vocab.txt: 100%"
          }
        },
        "2c3a621fb2e94655858a6a5f9ae938aa": {
          "model_module": "@jupyter-widgets/controls",
          "model_name": "FloatProgressModel",
          "model_module_version": "1.5.0",
          "state": {
            "_dom_classes": [],
            "_model_module": "@jupyter-widgets/controls",
            "_model_module_version": "1.5.0",
            "_model_name": "FloatProgressModel",
            "_view_count": null,
            "_view_module": "@jupyter-widgets/controls",
            "_view_module_version": "1.5.0",
            "_view_name": "ProgressView",
            "bar_style": "success",
            "description": "",
            "description_tooltip": null,
            "layout": "IPY_MODEL_5d9a291f0c2d405e8c590e2e21b51c06",
            "max": 81,
            "min": 0,
            "orientation": "horizontal",
            "style": "IPY_MODEL_da034fd83a954c88a003a1bbd93c923a",
            "value": 81
          }
        },
        "99623b6ae47c4ffa9312e19acc82d58b": {
          "model_module": "@jupyter-widgets/controls",
          "model_name": "HTMLModel",
          "model_module_version": "1.5.0",
          "state": {
            "_dom_classes": [],
            "_model_module": "@jupyter-widgets/controls",
            "_model_module_version": "1.5.0",
            "_model_name": "HTMLModel",
            "_view_count": null,
            "_view_module": "@jupyter-widgets/controls",
            "_view_module_version": "1.5.0",
            "_view_name": "HTMLView",
            "description": "",
            "description_tooltip": null,
            "layout": "IPY_MODEL_020dd3612b9a44d78edaf6473e9a90d7",
            "placeholder": "​",
            "style": "IPY_MODEL_1e059df7c42b45f29c81552888eb3894",
            "value": " 81.0/81.0 [00:00&lt;00:00, 3.12kB/s]"
          }
        },
        "e79d5495f42e40db8a769772f2d20ef2": {
          "model_module": "@jupyter-widgets/base",
          "model_name": "LayoutModel",
          "model_module_version": "1.2.0",
          "state": {
            "_model_module": "@jupyter-widgets/base",
            "_model_module_version": "1.2.0",
            "_model_name": "LayoutModel",
            "_view_count": null,
            "_view_module": "@jupyter-widgets/base",
            "_view_module_version": "1.2.0",
            "_view_name": "LayoutView",
            "align_content": null,
            "align_items": null,
            "align_self": null,
            "border": null,
            "bottom": null,
            "display": null,
            "flex": null,
            "flex_flow": null,
            "grid_area": null,
            "grid_auto_columns": null,
            "grid_auto_flow": null,
            "grid_auto_rows": null,
            "grid_column": null,
            "grid_gap": null,
            "grid_row": null,
            "grid_template_areas": null,
            "grid_template_columns": null,
            "grid_template_rows": null,
            "height": null,
            "justify_content": null,
            "justify_items": null,
            "left": null,
            "margin": null,
            "max_height": null,
            "max_width": null,
            "min_height": null,
            "min_width": null,
            "object_fit": null,
            "object_position": null,
            "order": null,
            "overflow": null,
            "overflow_x": null,
            "overflow_y": null,
            "padding": null,
            "right": null,
            "top": null,
            "visibility": null,
            "width": null
          }
        },
        "1da9cf9d9073433ea74a4309a14df135": {
          "model_module": "@jupyter-widgets/base",
          "model_name": "LayoutModel",
          "model_module_version": "1.2.0",
          "state": {
            "_model_module": "@jupyter-widgets/base",
            "_model_module_version": "1.2.0",
            "_model_name": "LayoutModel",
            "_view_count": null,
            "_view_module": "@jupyter-widgets/base",
            "_view_module_version": "1.2.0",
            "_view_name": "LayoutView",
            "align_content": null,
            "align_items": null,
            "align_self": null,
            "border": null,
            "bottom": null,
            "display": null,
            "flex": null,
            "flex_flow": null,
            "grid_area": null,
            "grid_auto_columns": null,
            "grid_auto_flow": null,
            "grid_auto_rows": null,
            "grid_column": null,
            "grid_gap": null,
            "grid_row": null,
            "grid_template_areas": null,
            "grid_template_columns": null,
            "grid_template_rows": null,
            "height": null,
            "justify_content": null,
            "justify_items": null,
            "left": null,
            "margin": null,
            "max_height": null,
            "max_width": null,
            "min_height": null,
            "min_width": null,
            "object_fit": null,
            "object_position": null,
            "order": null,
            "overflow": null,
            "overflow_x": null,
            "overflow_y": null,
            "padding": null,
            "right": null,
            "top": null,
            "visibility": null,
            "width": null
          }
        },
        "c26a9ae24d7642779af2ea4828de1b83": {
          "model_module": "@jupyter-widgets/controls",
          "model_name": "DescriptionStyleModel",
          "model_module_version": "1.5.0",
          "state": {
            "_model_module": "@jupyter-widgets/controls",
            "_model_module_version": "1.5.0",
            "_model_name": "DescriptionStyleModel",
            "_view_count": null,
            "_view_module": "@jupyter-widgets/base",
            "_view_module_version": "1.2.0",
            "_view_name": "StyleView",
            "description_width": ""
          }
        },
        "5d9a291f0c2d405e8c590e2e21b51c06": {
          "model_module": "@jupyter-widgets/base",
          "model_name": "LayoutModel",
          "model_module_version": "1.2.0",
          "state": {
            "_model_module": "@jupyter-widgets/base",
            "_model_module_version": "1.2.0",
            "_model_name": "LayoutModel",
            "_view_count": null,
            "_view_module": "@jupyter-widgets/base",
            "_view_module_version": "1.2.0",
            "_view_name": "LayoutView",
            "align_content": null,
            "align_items": null,
            "align_self": null,
            "border": null,
            "bottom": null,
            "display": null,
            "flex": null,
            "flex_flow": null,
            "grid_area": null,
            "grid_auto_columns": null,
            "grid_auto_flow": null,
            "grid_auto_rows": null,
            "grid_column": null,
            "grid_gap": null,
            "grid_row": null,
            "grid_template_areas": null,
            "grid_template_columns": null,
            "grid_template_rows": null,
            "height": null,
            "justify_content": null,
            "justify_items": null,
            "left": null,
            "margin": null,
            "max_height": null,
            "max_width": null,
            "min_height": null,
            "min_width": null,
            "object_fit": null,
            "object_position": null,
            "order": null,
            "overflow": null,
            "overflow_x": null,
            "overflow_y": null,
            "padding": null,
            "right": null,
            "top": null,
            "visibility": null,
            "width": null
          }
        },
        "da034fd83a954c88a003a1bbd93c923a": {
          "model_module": "@jupyter-widgets/controls",
          "model_name": "ProgressStyleModel",
          "model_module_version": "1.5.0",
          "state": {
            "_model_module": "@jupyter-widgets/controls",
            "_model_module_version": "1.5.0",
            "_model_name": "ProgressStyleModel",
            "_view_count": null,
            "_view_module": "@jupyter-widgets/base",
            "_view_module_version": "1.2.0",
            "_view_name": "StyleView",
            "bar_color": null,
            "description_width": ""
          }
        },
        "020dd3612b9a44d78edaf6473e9a90d7": {
          "model_module": "@jupyter-widgets/base",
          "model_name": "LayoutModel",
          "model_module_version": "1.2.0",
          "state": {
            "_model_module": "@jupyter-widgets/base",
            "_model_module_version": "1.2.0",
            "_model_name": "LayoutModel",
            "_view_count": null,
            "_view_module": "@jupyter-widgets/base",
            "_view_module_version": "1.2.0",
            "_view_name": "LayoutView",
            "align_content": null,
            "align_items": null,
            "align_self": null,
            "border": null,
            "bottom": null,
            "display": null,
            "flex": null,
            "flex_flow": null,
            "grid_area": null,
            "grid_auto_columns": null,
            "grid_auto_flow": null,
            "grid_auto_rows": null,
            "grid_column": null,
            "grid_gap": null,
            "grid_row": null,
            "grid_template_areas": null,
            "grid_template_columns": null,
            "grid_template_rows": null,
            "height": null,
            "justify_content": null,
            "justify_items": null,
            "left": null,
            "margin": null,
            "max_height": null,
            "max_width": null,
            "min_height": null,
            "min_width": null,
            "object_fit": null,
            "object_position": null,
            "order": null,
            "overflow": null,
            "overflow_x": null,
            "overflow_y": null,
            "padding": null,
            "right": null,
            "top": null,
            "visibility": null,
            "width": null
          }
        },
        "1e059df7c42b45f29c81552888eb3894": {
          "model_module": "@jupyter-widgets/controls",
          "model_name": "DescriptionStyleModel",
          "model_module_version": "1.5.0",
          "state": {
            "_model_module": "@jupyter-widgets/controls",
            "_model_module_version": "1.5.0",
            "_model_name": "DescriptionStyleModel",
            "_view_count": null,
            "_view_module": "@jupyter-widgets/base",
            "_view_module_version": "1.2.0",
            "_view_name": "StyleView",
            "description_width": ""
          }
        },
        "4f01d14956bd40418a58205f4ac74d17": {
          "model_module": "@jupyter-widgets/controls",
          "model_name": "HBoxModel",
          "model_module_version": "1.5.0",
          "state": {
            "_dom_classes": [],
            "_model_module": "@jupyter-widgets/controls",
            "_model_module_version": "1.5.0",
            "_model_name": "HBoxModel",
            "_view_count": null,
            "_view_module": "@jupyter-widgets/controls",
            "_view_module_version": "1.5.0",
            "_view_name": "HBoxView",
            "box_style": "",
            "children": [
              "IPY_MODEL_4323ab49105048d1aa93f896e2325e7c",
              "IPY_MODEL_b1d88c1046354c6b89d9f46f25660bff",
              "IPY_MODEL_c89c4c7b54a94a05a2d475ae153e0ad8"
            ],
            "layout": "IPY_MODEL_7978f0e82769420086f8a9a58ca6ddca"
          }
        },
        "4323ab49105048d1aa93f896e2325e7c": {
          "model_module": "@jupyter-widgets/controls",
          "model_name": "HTMLModel",
          "model_module_version": "1.5.0",
          "state": {
            "_dom_classes": [],
            "_model_module": "@jupyter-widgets/controls",
            "_model_module_version": "1.5.0",
            "_model_name": "HTMLModel",
            "_view_count": null,
            "_view_module": "@jupyter-widgets/controls",
            "_view_module_version": "1.5.0",
            "_view_name": "HTMLView",
            "description": "",
            "description_tooltip": null,
            "layout": "IPY_MODEL_ff379c4d1622486d9b5fe74218efcb8b",
            "placeholder": "​",
            "style": "IPY_MODEL_842b4ab72c474ba99e1da4ededa41e69",
            "value": "Downloading (…)cial_tokens_map.json: 100%"
          }
        },
        "b1d88c1046354c6b89d9f46f25660bff": {
          "model_module": "@jupyter-widgets/controls",
          "model_name": "FloatProgressModel",
          "model_module_version": "1.5.0",
          "state": {
            "_dom_classes": [],
            "_model_module": "@jupyter-widgets/controls",
            "_model_module_version": "1.5.0",
            "_model_name": "FloatProgressModel",
            "_view_count": null,
            "_view_module": "@jupyter-widgets/controls",
            "_view_module_version": "1.5.0",
            "_view_name": "ProgressView",
            "bar_style": "success",
            "description": "",
            "description_tooltip": null,
            "layout": "IPY_MODEL_7fc048c7b6e44f76ad8a20d8a6b36fc9",
            "max": 112,
            "min": 0,
            "orientation": "horizontal",
            "style": "IPY_MODEL_f7586de01b27402986adeccc7f545756",
            "value": 112
          }
        },
        "c89c4c7b54a94a05a2d475ae153e0ad8": {
          "model_module": "@jupyter-widgets/controls",
          "model_name": "HTMLModel",
          "model_module_version": "1.5.0",
          "state": {
            "_dom_classes": [],
            "_model_module": "@jupyter-widgets/controls",
            "_model_module_version": "1.5.0",
            "_model_name": "HTMLModel",
            "_view_count": null,
            "_view_module": "@jupyter-widgets/controls",
            "_view_module_version": "1.5.0",
            "_view_name": "HTMLView",
            "description": "",
            "description_tooltip": null,
            "layout": "IPY_MODEL_327523ab62754b33b8d61c4f31620610",
            "placeholder": "​",
            "style": "IPY_MODEL_65163c2751084d6abc78f4fa574dbdfd",
            "value": " 112/112 [00:00&lt;00:00, 6.34kB/s]"
          }
        },
        "7978f0e82769420086f8a9a58ca6ddca": {
          "model_module": "@jupyter-widgets/base",
          "model_name": "LayoutModel",
          "model_module_version": "1.2.0",
          "state": {
            "_model_module": "@jupyter-widgets/base",
            "_model_module_version": "1.2.0",
            "_model_name": "LayoutModel",
            "_view_count": null,
            "_view_module": "@jupyter-widgets/base",
            "_view_module_version": "1.2.0",
            "_view_name": "LayoutView",
            "align_content": null,
            "align_items": null,
            "align_self": null,
            "border": null,
            "bottom": null,
            "display": null,
            "flex": null,
            "flex_flow": null,
            "grid_area": null,
            "grid_auto_columns": null,
            "grid_auto_flow": null,
            "grid_auto_rows": null,
            "grid_column": null,
            "grid_gap": null,
            "grid_row": null,
            "grid_template_areas": null,
            "grid_template_columns": null,
            "grid_template_rows": null,
            "height": null,
            "justify_content": null,
            "justify_items": null,
            "left": null,
            "margin": null,
            "max_height": null,
            "max_width": null,
            "min_height": null,
            "min_width": null,
            "object_fit": null,
            "object_position": null,
            "order": null,
            "overflow": null,
            "overflow_x": null,
            "overflow_y": null,
            "padding": null,
            "right": null,
            "top": null,
            "visibility": null,
            "width": null
          }
        },
        "ff379c4d1622486d9b5fe74218efcb8b": {
          "model_module": "@jupyter-widgets/base",
          "model_name": "LayoutModel",
          "model_module_version": "1.2.0",
          "state": {
            "_model_module": "@jupyter-widgets/base",
            "_model_module_version": "1.2.0",
            "_model_name": "LayoutModel",
            "_view_count": null,
            "_view_module": "@jupyter-widgets/base",
            "_view_module_version": "1.2.0",
            "_view_name": "LayoutView",
            "align_content": null,
            "align_items": null,
            "align_self": null,
            "border": null,
            "bottom": null,
            "display": null,
            "flex": null,
            "flex_flow": null,
            "grid_area": null,
            "grid_auto_columns": null,
            "grid_auto_flow": null,
            "grid_auto_rows": null,
            "grid_column": null,
            "grid_gap": null,
            "grid_row": null,
            "grid_template_areas": null,
            "grid_template_columns": null,
            "grid_template_rows": null,
            "height": null,
            "justify_content": null,
            "justify_items": null,
            "left": null,
            "margin": null,
            "max_height": null,
            "max_width": null,
            "min_height": null,
            "min_width": null,
            "object_fit": null,
            "object_position": null,
            "order": null,
            "overflow": null,
            "overflow_x": null,
            "overflow_y": null,
            "padding": null,
            "right": null,
            "top": null,
            "visibility": null,
            "width": null
          }
        },
        "842b4ab72c474ba99e1da4ededa41e69": {
          "model_module": "@jupyter-widgets/controls",
          "model_name": "DescriptionStyleModel",
          "model_module_version": "1.5.0",
          "state": {
            "_model_module": "@jupyter-widgets/controls",
            "_model_module_version": "1.5.0",
            "_model_name": "DescriptionStyleModel",
            "_view_count": null,
            "_view_module": "@jupyter-widgets/base",
            "_view_module_version": "1.2.0",
            "_view_name": "StyleView",
            "description_width": ""
          }
        },
        "7fc048c7b6e44f76ad8a20d8a6b36fc9": {
          "model_module": "@jupyter-widgets/base",
          "model_name": "LayoutModel",
          "model_module_version": "1.2.0",
          "state": {
            "_model_module": "@jupyter-widgets/base",
            "_model_module_version": "1.2.0",
            "_model_name": "LayoutModel",
            "_view_count": null,
            "_view_module": "@jupyter-widgets/base",
            "_view_module_version": "1.2.0",
            "_view_name": "LayoutView",
            "align_content": null,
            "align_items": null,
            "align_self": null,
            "border": null,
            "bottom": null,
            "display": null,
            "flex": null,
            "flex_flow": null,
            "grid_area": null,
            "grid_auto_columns": null,
            "grid_auto_flow": null,
            "grid_auto_rows": null,
            "grid_column": null,
            "grid_gap": null,
            "grid_row": null,
            "grid_template_areas": null,
            "grid_template_columns": null,
            "grid_template_rows": null,
            "height": null,
            "justify_content": null,
            "justify_items": null,
            "left": null,
            "margin": null,
            "max_height": null,
            "max_width": null,
            "min_height": null,
            "min_width": null,
            "object_fit": null,
            "object_position": null,
            "order": null,
            "overflow": null,
            "overflow_x": null,
            "overflow_y": null,
            "padding": null,
            "right": null,
            "top": null,
            "visibility": null,
            "width": null
          }
        },
        "f7586de01b27402986adeccc7f545756": {
          "model_module": "@jupyter-widgets/controls",
          "model_name": "ProgressStyleModel",
          "model_module_version": "1.5.0",
          "state": {
            "_model_module": "@jupyter-widgets/controls",
            "_model_module_version": "1.5.0",
            "_model_name": "ProgressStyleModel",
            "_view_count": null,
            "_view_module": "@jupyter-widgets/base",
            "_view_module_version": "1.2.0",
            "_view_name": "StyleView",
            "bar_color": null,
            "description_width": ""
          }
        },
        "327523ab62754b33b8d61c4f31620610": {
          "model_module": "@jupyter-widgets/base",
          "model_name": "LayoutModel",
          "model_module_version": "1.2.0",
          "state": {
            "_model_module": "@jupyter-widgets/base",
            "_model_module_version": "1.2.0",
            "_model_name": "LayoutModel",
            "_view_count": null,
            "_view_module": "@jupyter-widgets/base",
            "_view_module_version": "1.2.0",
            "_view_name": "LayoutView",
            "align_content": null,
            "align_items": null,
            "align_self": null,
            "border": null,
            "bottom": null,
            "display": null,
            "flex": null,
            "flex_flow": null,
            "grid_area": null,
            "grid_auto_columns": null,
            "grid_auto_flow": null,
            "grid_auto_rows": null,
            "grid_column": null,
            "grid_gap": null,
            "grid_row": null,
            "grid_template_areas": null,
            "grid_template_columns": null,
            "grid_template_rows": null,
            "height": null,
            "justify_content": null,
            "justify_items": null,
            "left": null,
            "margin": null,
            "max_height": null,
            "max_width": null,
            "min_height": null,
            "min_width": null,
            "object_fit": null,
            "object_position": null,
            "order": null,
            "overflow": null,
            "overflow_x": null,
            "overflow_y": null,
            "padding": null,
            "right": null,
            "top": null,
            "visibility": null,
            "width": null
          }
        },
        "65163c2751084d6abc78f4fa574dbdfd": {
          "model_module": "@jupyter-widgets/controls",
          "model_name": "DescriptionStyleModel",
          "model_module_version": "1.5.0",
          "state": {
            "_model_module": "@jupyter-widgets/controls",
            "_model_module_version": "1.5.0",
            "_model_name": "DescriptionStyleModel",
            "_view_count": null,
            "_view_module": "@jupyter-widgets/base",
            "_view_module_version": "1.2.0",
            "_view_name": "StyleView",
            "description_width": ""
          }
        },
        "debc2aacc7604fc5a0420a1a7d26cdb3": {
          "model_module": "@jupyter-widgets/controls",
          "model_name": "HBoxModel",
          "model_module_version": "1.5.0",
          "state": {
            "_dom_classes": [],
            "_model_module": "@jupyter-widgets/controls",
            "_model_module_version": "1.5.0",
            "_model_name": "HBoxModel",
            "_view_count": null,
            "_view_module": "@jupyter-widgets/controls",
            "_view_module_version": "1.5.0",
            "_view_name": "HBoxView",
            "box_style": "",
            "children": [
              "IPY_MODEL_119736b4885d495683937c6b56f85591",
              "IPY_MODEL_6145ef7e95ee4119b1c80094615030f3",
              "IPY_MODEL_d840e947a06343e4855385658d67e832"
            ],
            "layout": "IPY_MODEL_bfb6c13cb98643cd9d3d48db32f4fcff"
          }
        },
        "119736b4885d495683937c6b56f85591": {
          "model_module": "@jupyter-widgets/controls",
          "model_name": "HTMLModel",
          "model_module_version": "1.5.0",
          "state": {
            "_dom_classes": [],
            "_model_module": "@jupyter-widgets/controls",
            "_model_module_version": "1.5.0",
            "_model_name": "HTMLModel",
            "_view_count": null,
            "_view_module": "@jupyter-widgets/controls",
            "_view_module_version": "1.5.0",
            "_view_name": "HTMLView",
            "description": "",
            "description_tooltip": null,
            "layout": "IPY_MODEL_f51513b704b645358da47b572fffa884",
            "placeholder": "​",
            "style": "IPY_MODEL_437e0ca9d73641408525790016546b8e",
            "value": "Downloading (…)okenizer_config.json: 100%"
          }
        },
        "6145ef7e95ee4119b1c80094615030f3": {
          "model_module": "@jupyter-widgets/controls",
          "model_name": "FloatProgressModel",
          "model_module_version": "1.5.0",
          "state": {
            "_dom_classes": [],
            "_model_module": "@jupyter-widgets/controls",
            "_model_module_version": "1.5.0",
            "_model_name": "FloatProgressModel",
            "_view_count": null,
            "_view_module": "@jupyter-widgets/controls",
            "_view_module_version": "1.5.0",
            "_view_name": "ProgressView",
            "bar_style": "success",
            "description": "",
            "description_tooltip": null,
            "layout": "IPY_MODEL_72257e964690478db8287cc2f3bc681d",
            "max": 86,
            "min": 0,
            "orientation": "horizontal",
            "style": "IPY_MODEL_74386ea0e3e94b3ba7279dd0b9fef346",
            "value": 86
          }
        },
        "d840e947a06343e4855385658d67e832": {
          "model_module": "@jupyter-widgets/controls",
          "model_name": "HTMLModel",
          "model_module_version": "1.5.0",
          "state": {
            "_dom_classes": [],
            "_model_module": "@jupyter-widgets/controls",
            "_model_module_version": "1.5.0",
            "_model_name": "HTMLModel",
            "_view_count": null,
            "_view_module": "@jupyter-widgets/controls",
            "_view_module_version": "1.5.0",
            "_view_name": "HTMLView",
            "description": "",
            "description_tooltip": null,
            "layout": "IPY_MODEL_6ca69bafa561411bb0c8baf128e5777e",
            "placeholder": "​",
            "style": "IPY_MODEL_70d2202bc6cf4f01a9c3cc0286808e56",
            "value": " 86.0/86.0 [00:00&lt;00:00, 5.98kB/s]"
          }
        },
        "bfb6c13cb98643cd9d3d48db32f4fcff": {
          "model_module": "@jupyter-widgets/base",
          "model_name": "LayoutModel",
          "model_module_version": "1.2.0",
          "state": {
            "_model_module": "@jupyter-widgets/base",
            "_model_module_version": "1.2.0",
            "_model_name": "LayoutModel",
            "_view_count": null,
            "_view_module": "@jupyter-widgets/base",
            "_view_module_version": "1.2.0",
            "_view_name": "LayoutView",
            "align_content": null,
            "align_items": null,
            "align_self": null,
            "border": null,
            "bottom": null,
            "display": null,
            "flex": null,
            "flex_flow": null,
            "grid_area": null,
            "grid_auto_columns": null,
            "grid_auto_flow": null,
            "grid_auto_rows": null,
            "grid_column": null,
            "grid_gap": null,
            "grid_row": null,
            "grid_template_areas": null,
            "grid_template_columns": null,
            "grid_template_rows": null,
            "height": null,
            "justify_content": null,
            "justify_items": null,
            "left": null,
            "margin": null,
            "max_height": null,
            "max_width": null,
            "min_height": null,
            "min_width": null,
            "object_fit": null,
            "object_position": null,
            "order": null,
            "overflow": null,
            "overflow_x": null,
            "overflow_y": null,
            "padding": null,
            "right": null,
            "top": null,
            "visibility": null,
            "width": null
          }
        },
        "f51513b704b645358da47b572fffa884": {
          "model_module": "@jupyter-widgets/base",
          "model_name": "LayoutModel",
          "model_module_version": "1.2.0",
          "state": {
            "_model_module": "@jupyter-widgets/base",
            "_model_module_version": "1.2.0",
            "_model_name": "LayoutModel",
            "_view_count": null,
            "_view_module": "@jupyter-widgets/base",
            "_view_module_version": "1.2.0",
            "_view_name": "LayoutView",
            "align_content": null,
            "align_items": null,
            "align_self": null,
            "border": null,
            "bottom": null,
            "display": null,
            "flex": null,
            "flex_flow": null,
            "grid_area": null,
            "grid_auto_columns": null,
            "grid_auto_flow": null,
            "grid_auto_rows": null,
            "grid_column": null,
            "grid_gap": null,
            "grid_row": null,
            "grid_template_areas": null,
            "grid_template_columns": null,
            "grid_template_rows": null,
            "height": null,
            "justify_content": null,
            "justify_items": null,
            "left": null,
            "margin": null,
            "max_height": null,
            "max_width": null,
            "min_height": null,
            "min_width": null,
            "object_fit": null,
            "object_position": null,
            "order": null,
            "overflow": null,
            "overflow_x": null,
            "overflow_y": null,
            "padding": null,
            "right": null,
            "top": null,
            "visibility": null,
            "width": null
          }
        },
        "437e0ca9d73641408525790016546b8e": {
          "model_module": "@jupyter-widgets/controls",
          "model_name": "DescriptionStyleModel",
          "model_module_version": "1.5.0",
          "state": {
            "_model_module": "@jupyter-widgets/controls",
            "_model_module_version": "1.5.0",
            "_model_name": "DescriptionStyleModel",
            "_view_count": null,
            "_view_module": "@jupyter-widgets/base",
            "_view_module_version": "1.2.0",
            "_view_name": "StyleView",
            "description_width": ""
          }
        },
        "72257e964690478db8287cc2f3bc681d": {
          "model_module": "@jupyter-widgets/base",
          "model_name": "LayoutModel",
          "model_module_version": "1.2.0",
          "state": {
            "_model_module": "@jupyter-widgets/base",
            "_model_module_version": "1.2.0",
            "_model_name": "LayoutModel",
            "_view_count": null,
            "_view_module": "@jupyter-widgets/base",
            "_view_module_version": "1.2.0",
            "_view_name": "LayoutView",
            "align_content": null,
            "align_items": null,
            "align_self": null,
            "border": null,
            "bottom": null,
            "display": null,
            "flex": null,
            "flex_flow": null,
            "grid_area": null,
            "grid_auto_columns": null,
            "grid_auto_flow": null,
            "grid_auto_rows": null,
            "grid_column": null,
            "grid_gap": null,
            "grid_row": null,
            "grid_template_areas": null,
            "grid_template_columns": null,
            "grid_template_rows": null,
            "height": null,
            "justify_content": null,
            "justify_items": null,
            "left": null,
            "margin": null,
            "max_height": null,
            "max_width": null,
            "min_height": null,
            "min_width": null,
            "object_fit": null,
            "object_position": null,
            "order": null,
            "overflow": null,
            "overflow_x": null,
            "overflow_y": null,
            "padding": null,
            "right": null,
            "top": null,
            "visibility": null,
            "width": null
          }
        },
        "74386ea0e3e94b3ba7279dd0b9fef346": {
          "model_module": "@jupyter-widgets/controls",
          "model_name": "ProgressStyleModel",
          "model_module_version": "1.5.0",
          "state": {
            "_model_module": "@jupyter-widgets/controls",
            "_model_module_version": "1.5.0",
            "_model_name": "ProgressStyleModel",
            "_view_count": null,
            "_view_module": "@jupyter-widgets/base",
            "_view_module_version": "1.2.0",
            "_view_name": "StyleView",
            "bar_color": null,
            "description_width": ""
          }
        },
        "6ca69bafa561411bb0c8baf128e5777e": {
          "model_module": "@jupyter-widgets/base",
          "model_name": "LayoutModel",
          "model_module_version": "1.2.0",
          "state": {
            "_model_module": "@jupyter-widgets/base",
            "_model_module_version": "1.2.0",
            "_model_name": "LayoutModel",
            "_view_count": null,
            "_view_module": "@jupyter-widgets/base",
            "_view_module_version": "1.2.0",
            "_view_name": "LayoutView",
            "align_content": null,
            "align_items": null,
            "align_self": null,
            "border": null,
            "bottom": null,
            "display": null,
            "flex": null,
            "flex_flow": null,
            "grid_area": null,
            "grid_auto_columns": null,
            "grid_auto_flow": null,
            "grid_auto_rows": null,
            "grid_column": null,
            "grid_gap": null,
            "grid_row": null,
            "grid_template_areas": null,
            "grid_template_columns": null,
            "grid_template_rows": null,
            "height": null,
            "justify_content": null,
            "justify_items": null,
            "left": null,
            "margin": null,
            "max_height": null,
            "max_width": null,
            "min_height": null,
            "min_width": null,
            "object_fit": null,
            "object_position": null,
            "order": null,
            "overflow": null,
            "overflow_x": null,
            "overflow_y": null,
            "padding": null,
            "right": null,
            "top": null,
            "visibility": null,
            "width": null
          }
        },
        "70d2202bc6cf4f01a9c3cc0286808e56": {
          "model_module": "@jupyter-widgets/controls",
          "model_name": "DescriptionStyleModel",
          "model_module_version": "1.5.0",
          "state": {
            "_model_module": "@jupyter-widgets/controls",
            "_model_module_version": "1.5.0",
            "_model_name": "DescriptionStyleModel",
            "_view_count": null,
            "_view_module": "@jupyter-widgets/base",
            "_view_module_version": "1.2.0",
            "_view_name": "StyleView",
            "description_width": ""
          }
        }
      }
    }
  },
  "nbformat": 4,
  "nbformat_minor": 0
}